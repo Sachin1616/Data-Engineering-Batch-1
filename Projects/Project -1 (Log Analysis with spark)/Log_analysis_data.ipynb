{
 "cells": [
  {
   "cell_type": "markdown",
   "metadata": {
    "application/vnd.databricks.v1+cell": {
     "cellMetadata": {},
     "inputWidgets": {},
     "nuid": "e434fea1-8414-464b-a0c3-0661f7102759",
     "showTitle": false,
     "title": ""
    }
   },
   "source": [
    "CREATING A SPARK SESSION"
   ]
  },
  {
   "cell_type": "code",
   "execution_count": 0,
   "metadata": {
    "application/vnd.databricks.v1+cell": {
     "cellMetadata": {
      "byteLimit": 2048000,
      "rowLimit": 10000
     },
     "inputWidgets": {},
     "nuid": "a2211150-4c61-49d8-9d06-6ae93cf96cc3",
     "showTitle": false,
     "title": ""
    }
   },
   "outputs": [],
   "source": [
    "from pyspark.sql import SparkSession"
   ]
  },
  {
   "cell_type": "code",
   "execution_count": 0,
   "metadata": {
    "application/vnd.databricks.v1+cell": {
     "cellMetadata": {
      "byteLimit": 2048000,
      "rowLimit": 10000
     },
     "inputWidgets": {},
     "nuid": "83ba337c-a5e4-44b5-8a44-d35b7024ab28",
     "showTitle": false,
     "title": ""
    }
   },
   "outputs": [],
   "source": [
    "spark = SparkSession.builder.appName(\"Log_Analysis\").getOrCreate()"
   ]
  },
  {
   "cell_type": "markdown",
   "metadata": {
    "application/vnd.databricks.v1+cell": {
     "cellMetadata": {},
     "inputWidgets": {},
     "nuid": "542c13a6-dae9-4604-ae19-254756c27064",
     "showTitle": false,
     "title": ""
    }
   },
   "source": [
    "CODE TO GET THE DATA FROM AZURE STORAGE ACCOUNT INTO DATABRICKS"
   ]
  },
  {
   "cell_type": "code",
   "execution_count": 0,
   "metadata": {
    "application/vnd.databricks.v1+cell": {
     "cellMetadata": {
      "byteLimit": 2048000,
      "rowLimit": 10000
     },
     "inputWidgets": {},
     "nuid": "5ad23d9e-72ca-4de4-956e-003a049d29ab",
     "showTitle": false,
     "title": ""
    }
   },
   "outputs": [],
   "source": [
    "storage_account_name= \"my2demo1057\"\n",
    "storage_account_key= \"j051LupqroJJEKyyU1dwIQjf8L0B6oJQ7xaPcxGpZv/xFnaokvWLhb0fBZ/lXzxiOZCwqLum/99L+AStFTlSDg==\"\n",
    "container= \"containerproject\""
   ]
  },
  {
   "cell_type": "code",
   "execution_count": 0,
   "metadata": {
    "application/vnd.databricks.v1+cell": {
     "cellMetadata": {
      "byteLimit": 2048000,
      "rowLimit": 10000
     },
     "inputWidgets": {},
     "nuid": "0fef629d-5b6a-4e83-bea0-d13ad3ceccba",
     "showTitle": false,
     "title": ""
    }
   },
   "outputs": [],
   "source": [
    "spark.conf.set(f\"fs.azure.account.key.{storage_account_name}.blob.core.windows.net\",storage_account_key)"
   ]
  },
  {
   "cell_type": "code",
   "execution_count": 0,
   "metadata": {
    "application/vnd.databricks.v1+cell": {
     "cellMetadata": {
      "byteLimit": 2048000,
      "rowLimit": 10000
     },
     "inputWidgets": {},
     "nuid": "dd69dcd7-32c6-4bd1-974f-237ebdf22bd2",
     "showTitle": false,
     "title": ""
    }
   },
   "outputs": [
    {
     "output_type": "execute_result",
     "data": {
      "text/plain": [
       "[FileInfo(path='wasbs://containerproject@my2demo1057.blob.core.windows.net/log_data.csv', name='log_data.csv', size=6743, modificationTime=1709188754000)]"
      ]
     },
     "execution_count": 5,
     "metadata": {},
     "output_type": "execute_result"
    }
   ],
   "source": [
    "dbutils.fs.ls(f\"wasbs://{container}@{storage_account_name}.blob.core.windows.net/\")"
   ]
  },
  {
   "cell_type": "markdown",
   "metadata": {
    "application/vnd.databricks.v1+cell": {
     "cellMetadata": {},
     "inputWidgets": {},
     "nuid": "4790cf58-8811-432e-bcfd-b3f6cfea6a69",
     "showTitle": false,
     "title": ""
    }
   },
   "source": [
    "LOADING DATA INTO DATAFRAME"
   ]
  },
  {
   "cell_type": "code",
   "execution_count": 0,
   "metadata": {
    "application/vnd.databricks.v1+cell": {
     "cellMetadata": {
      "byteLimit": 2048000,
      "rowLimit": 10000
     },
     "inputWidgets": {},
     "nuid": "73e18842-542c-40c4-9aed-3c6551ad2c07",
     "showTitle": false,
     "title": ""
    }
   },
   "outputs": [],
   "source": [
    "df=spark.read.csv(f\"wasbs://{container}@{storage_account_name}.blob.core.windows.net/\",header=True, inferSchema=True)"
   ]
  },
  {
   "cell_type": "code",
   "execution_count": 0,
   "metadata": {
    "application/vnd.databricks.v1+cell": {
     "cellMetadata": {
      "byteLimit": 2048000,
      "rowLimit": 10000
     },
     "inputWidgets": {},
     "nuid": "e8bac620-5551-40ce-a67d-41fbd49f4ca5",
     "showTitle": false,
     "title": ""
    }
   },
   "outputs": [
    {
     "output_type": "stream",
     "name": "stdout",
     "output_type": "stream",
     "text": [
      "+--------------------+---------------+--------------+-----------+----------+\n|           Timestamp|     IP Address|    User Agent|HTTP Status|Bytes Sent|\n+--------------------+---------------+--------------+-----------+----------+\n|2023-04-16 05:13:...|  192.168.87.28|UserAgent-5989|        200|      3738|\n|2023-08-29 02:58:...|  192.168.97.78|UserAgent-5915|        200|      6050|\n|2023-12-16 17:36:...|   192.168.1.40|UserAgent-2408|        200|      3640|\n|2024-02-08 21:38:...| 192.168.63.146|UserAgent-7203|        200|      8178|\n|2023-07-15 05:30:...|192.168.139.169|UserAgent-5160|        500|      4085|\n|2023-10-13 14:08:...|  192.168.59.34|UserAgent-5856|        200|      1060|\n|2024-02-14 11:35:...| 192.168.160.40|UserAgent-3677|        200|      1224|\n|2023-03-15 17:12:...|192.168.142.236|UserAgent-7323|        200|       877|\n|2023-06-09 20:46:...| 192.168.151.51|UserAgent-1747|        404|      7617|\n|2023-04-13 03:56:...| 192.168.244.63|UserAgent-4898|        500|      6967|\n+--------------------+---------------+--------------+-----------+----------+\nonly showing top 10 rows\n\n"
     ]
    }
   ],
   "source": [
    "df.show(10)"
   ]
  },
  {
   "cell_type": "markdown",
   "metadata": {
    "application/vnd.databricks.v1+cell": {
     "cellMetadata": {},
     "inputWidgets": {},
     "nuid": "8617cfdb-d6e4-4bf5-97d1-748e8fd129f5",
     "showTitle": false,
     "title": ""
    }
   },
   "source": [
    "INSTEAD OF EXPLICITLY SPECIFYING THE FULL PATH EVERY TIME TO ACCESS THE DATA, WE CAN USE MOUNTING."
   ]
  },
  {
   "cell_type": "code",
   "execution_count": 0,
   "metadata": {
    "application/vnd.databricks.v1+cell": {
     "cellMetadata": {
      "byteLimit": 2048000,
      "rowLimit": 10000
     },
     "inputWidgets": {},
     "nuid": "f767f494-8001-448a-ae55-54d848fb556b",
     "showTitle": false,
     "title": ""
    }
   },
   "outputs": [
    {
     "output_type": "execute_result",
     "data": {
      "text/plain": [
       "True"
      ]
     },
     "execution_count": 8,
     "metadata": {},
     "output_type": "execute_result"
    }
   ],
   "source": [
    "dbutils.fs.mount(\n",
    "    source=f\"wasbs://{container}@{storage_account_name}.blob.core.windows.net/\",\n",
    "    mount_point=\"/mnt/storage\",\n",
    "    extra_configs={f\"fs.azure.account.key.{storage_account_name}.blob.core.windows.net\": storage_account_key}\n",
    ")"
   ]
  },
  {
   "cell_type": "code",
   "execution_count": 0,
   "metadata": {
    "application/vnd.databricks.v1+cell": {
     "cellMetadata": {
      "byteLimit": 2048000,
      "rowLimit": 10000
     },
     "inputWidgets": {},
     "nuid": "13395f04-1b2a-4ba6-83ac-ce9d047033a8",
     "showTitle": false,
     "title": ""
    }
   },
   "outputs": [
    {
     "output_type": "execute_result",
     "data": {
      "text/plain": [
       "[MountInfo(mountPoint='/mnt/storage', source='wasbs://containerproject@my2demo1057.blob.core.windows.net/', encryptionType=''),\n",
       " MountInfo(mountPoint='/databricks-datasets', source='databricks-datasets', encryptionType=''),\n",
       " MountInfo(mountPoint='/Volumes', source='UnityCatalogVolumes', encryptionType=''),\n",
       " MountInfo(mountPoint='/databricks/mlflow-tracking', source='databricks/mlflow-tracking', encryptionType=''),\n",
       " MountInfo(mountPoint='/databricks-results', source='databricks-results', encryptionType=''),\n",
       " MountInfo(mountPoint='/databricks/mlflow-registry', source='databricks/mlflow-registry', encryptionType=''),\n",
       " MountInfo(mountPoint='/Volume', source='DbfsReserved', encryptionType=''),\n",
       " MountInfo(mountPoint='/volumes', source='DbfsReserved', encryptionType=''),\n",
       " MountInfo(mountPoint='/', source='DatabricksRoot', encryptionType=''),\n",
       " MountInfo(mountPoint='/volume', source='DbfsReserved', encryptionType='')]"
      ]
     },
     "execution_count": 10,
     "metadata": {},
     "output_type": "execute_result"
    }
   ],
   "source": [
    "dbutils.fs.mounts()"
   ]
  },
  {
   "cell_type": "code",
   "execution_count": 0,
   "metadata": {
    "application/vnd.databricks.v1+cell": {
     "cellMetadata": {
      "byteLimit": 2048000,
      "rowLimit": 10000
     },
     "inputWidgets": {},
     "nuid": "7d760d1f-833a-414b-9bad-2be7b55e889e",
     "showTitle": false,
     "title": ""
    }
   },
   "outputs": [],
   "source": [
    "df = spark.read.csv(\"/mnt/storage/log_data.csv\", header=True, inferSchema=True)"
   ]
  },
  {
   "cell_type": "code",
   "execution_count": 0,
   "metadata": {
    "application/vnd.databricks.v1+cell": {
     "cellMetadata": {
      "byteLimit": 2048000,
      "rowLimit": 10000
     },
     "inputWidgets": {},
     "nuid": "74eeb6cf-e319-4d77-a707-3b37f70f01e3",
     "showTitle": false,
     "title": ""
    }
   },
   "outputs": [
    {
     "output_type": "stream",
     "name": "stdout",
     "output_type": "stream",
     "text": [
      "+--------------------+---------------+--------------+-----------+----------+\n|           Timestamp|     IP Address|    User Agent|HTTP Status|Bytes Sent|\n+--------------------+---------------+--------------+-----------+----------+\n|2023-04-16 05:13:...|  192.168.87.28|UserAgent-5989|        200|      3738|\n|2023-08-29 02:58:...|  192.168.97.78|UserAgent-5915|        200|      6050|\n|2023-12-16 17:36:...|   192.168.1.40|UserAgent-2408|        200|      3640|\n|2024-02-08 21:38:...| 192.168.63.146|UserAgent-7203|        200|      8178|\n|2023-07-15 05:30:...|192.168.139.169|UserAgent-5160|        500|      4085|\n|2023-10-13 14:08:...|  192.168.59.34|UserAgent-5856|        200|      1060|\n|2024-02-14 11:35:...| 192.168.160.40|UserAgent-3677|        200|      1224|\n|2023-03-15 17:12:...|192.168.142.236|UserAgent-7323|        200|       877|\n|2023-06-09 20:46:...| 192.168.151.51|UserAgent-1747|        404|      7617|\n|2023-04-13 03:56:...| 192.168.244.63|UserAgent-4898|        500|      6967|\n+--------------------+---------------+--------------+-----------+----------+\nonly showing top 10 rows\n\n"
     ]
    }
   ],
   "source": [
    "df.show(10)"
   ]
  },
  {
   "cell_type": "code",
   "execution_count": 0,
   "metadata": {
    "application/vnd.databricks.v1+cell": {
     "cellMetadata": {
      "byteLimit": 2048000,
      "rowLimit": 10000
     },
     "inputWidgets": {},
     "nuid": "bf2b39df-d7b8-4c66-b24c-a64089a1104b",
     "showTitle": false,
     "title": ""
    }
   },
   "outputs": [
    {
     "output_type": "stream",
     "name": "stdout",
     "output_type": "stream",
     "text": [
      "root\n |-- Timestamp: timestamp (nullable = true)\n |-- IP Address: string (nullable = true)\n |-- User Agent: string (nullable = true)\n |-- HTTP Status: integer (nullable = true)\n |-- Bytes Sent: integer (nullable = true)\n\n"
     ]
    }
   ],
   "source": [
    "df.printSchema()"
   ]
  },
  {
   "cell_type": "code",
   "execution_count": 0,
   "metadata": {
    "application/vnd.databricks.v1+cell": {
     "cellMetadata": {
      "byteLimit": 2048000,
      "rowLimit": 10000
     },
     "inputWidgets": {},
     "nuid": "912d8d4f-caf4-47f3-a7f5-611063622811",
     "showTitle": false,
     "title": ""
    }
   },
   "outputs": [
    {
     "output_type": "display_data",
     "data": {
      "text/html": [
       "<style scoped>\n",
       "  .table-result-container {\n",
       "    max-height: 300px;\n",
       "    overflow: auto;\n",
       "  }\n",
       "  table, th, td {\n",
       "    border: 1px solid black;\n",
       "    border-collapse: collapse;\n",
       "  }\n",
       "  th, td {\n",
       "    padding: 5px;\n",
       "  }\n",
       "  th {\n",
       "    text-align: left;\n",
       "  }\n",
       "</style><div class='table-result-container'><table class='table-result'><thead style='background-color: white'><tr><th>Timestamp</th><th>IP Address</th><th>User Agent</th><th>HTTP Status</th><th>Bytes Sent</th></tr></thead><tbody><tr><td>2023-04-16T05:13:53.659803Z</td><td>192.168.87.28</td><td>UserAgent-5989</td><td>200</td><td>3738</td></tr><tr><td>2023-08-29T02:58:07.659803Z</td><td>192.168.97.78</td><td>UserAgent-5915</td><td>200</td><td>6050</td></tr><tr><td>2023-12-16T17:36:16.659803Z</td><td>192.168.1.40</td><td>UserAgent-2408</td><td>200</td><td>3640</td></tr><tr><td>2024-02-08T21:38:23.659803Z</td><td>192.168.63.146</td><td>UserAgent-7203</td><td>200</td><td>8178</td></tr><tr><td>2023-07-15T05:30:23.659803Z</td><td>192.168.139.169</td><td>UserAgent-5160</td><td>500</td><td>4085</td></tr><tr><td>2023-10-13T14:08:09.659803Z</td><td>192.168.59.34</td><td>UserAgent-5856</td><td>200</td><td>1060</td></tr><tr><td>2024-02-14T11:35:54.659803Z</td><td>192.168.160.40</td><td>UserAgent-3677</td><td>200</td><td>1224</td></tr><tr><td>2023-03-15T17:12:12.659803Z</td><td>192.168.142.236</td><td>UserAgent-7323</td><td>200</td><td>877</td></tr><tr><td>2023-06-09T20:46:27.659803Z</td><td>192.168.151.51</td><td>UserAgent-1747</td><td>404</td><td>7617</td></tr><tr><td>2023-04-13T03:56:16.659803Z</td><td>192.168.244.63</td><td>UserAgent-4898</td><td>500</td><td>6967</td></tr><tr><td>2023-07-29T19:29:48.659803Z</td><td>192.168.137.138</td><td>UserAgent-9472</td><td>404</td><td>6197</td></tr><tr><td>2023-09-10T05:17:20.659803Z</td><td>192.168.190.21</td><td>UserAgent-6139</td><td>200</td><td>4827</td></tr><tr><td>2024-02-13T16:10:27.659803Z</td><td>192.168.128.83</td><td>UserAgent-8799</td><td>404</td><td>1144</td></tr><tr><td>2024-02-19T11:18:58.659803Z</td><td>192.168.98.33</td><td>UserAgent-6161</td><td>200</td><td>8526</td></tr><tr><td>2023-09-20T08:46:55.659803Z</td><td>192.168.157.69</td><td>UserAgent-9229</td><td>404</td><td>4674</td></tr><tr><td>2024-01-11T02:15:22.659803Z</td><td>192.168.85.170</td><td>UserAgent-9247</td><td>200</td><td>9686</td></tr><tr><td>2023-11-26T09:23:36.659803Z</td><td>192.168.217.83</td><td>UserAgent-4598</td><td>200</td><td>2269</td></tr><tr><td>2024-02-10T09:16:01.659803Z</td><td>192.168.46.118</td><td>UserAgent-8152</td><td>500</td><td>2139</td></tr><tr><td>2023-06-19T18:29:06.659803Z</td><td>192.168.51.137</td><td>UserAgent-4939</td><td>500</td><td>2953</td></tr><tr><td>2024-02-07T05:10:41.659803Z</td><td>192.168.98.231</td><td>UserAgent-8840</td><td>404</td><td>4043</td></tr><tr><td>2024-02-11T18:39:12.659803Z</td><td>192.168.176.63</td><td>UserAgent-7403</td><td>404</td><td>7428</td></tr><tr><td>2023-12-20T17:48:52.659803Z</td><td>192.168.99.51</td><td>UserAgent-9419</td><td>500</td><td>2325</td></tr><tr><td>2023-08-03T07:45:20.659803Z</td><td>192.168.1.58</td><td>UserAgent-3454</td><td>404</td><td>2709</td></tr><tr><td>2024-02-09T12:05:54.659803Z</td><td>192.168.4.32</td><td>UserAgent-4092</td><td>200</td><td>6420</td></tr><tr><td>2024-02-19T10:21:21.659803Z</td><td>192.168.82.247</td><td>UserAgent-6342</td><td>200</td><td>5141</td></tr><tr><td>2023-09-09T09:46:43.659803Z</td><td>192.168.56.86</td><td>UserAgent-3992</td><td>404</td><td>6776</td></tr><tr><td>2023-06-17T20:50:21.659803Z</td><td>192.168.220.170</td><td>UserAgent-1007</td><td>404</td><td>9761</td></tr><tr><td>2023-05-17T10:38:59.659803Z</td><td>192.168.41.11</td><td>UserAgent-5779</td><td>404</td><td>5488</td></tr><tr><td>2023-08-24T08:10:24.659803Z</td><td>192.168.28.86</td><td>UserAgent-7658</td><td>500</td><td>680</td></tr><tr><td>2023-07-10T11:57:42.659803Z</td><td>192.168.10.253</td><td>UserAgent-6243</td><td>200</td><td>4747</td></tr><tr><td>2023-07-13T23:03:07.659803Z</td><td>192.168.149.198</td><td>UserAgent-7676</td><td>404</td><td>5194</td></tr><tr><td>2023-10-24T14:10:39.659803Z</td><td>192.168.82.216</td><td>UserAgent-5146</td><td>200</td><td>4719</td></tr><tr><td>2023-09-06T20:41:04.659803Z</td><td>192.168.15.77</td><td>UserAgent-3571</td><td>200</td><td>5392</td></tr><tr><td>2023-05-15T13:34:14.659803Z</td><td>192.168.202.216</td><td>UserAgent-9797</td><td>404</td><td>4735</td></tr><tr><td>2023-10-21T10:19:13.659803Z</td><td>192.168.25.250</td><td>UserAgent-5142</td><td>500</td><td>3846</td></tr><tr><td>2023-08-07T20:14:17.659803Z</td><td>192.168.67.94</td><td>UserAgent-6587</td><td>404</td><td>3783</td></tr><tr><td>2024-01-01T02:19:48.659803Z</td><td>192.168.96.58</td><td>UserAgent-6917</td><td>404</td><td>9309</td></tr><tr><td>2023-06-18T14:20:36.659803Z</td><td>192.168.29.150</td><td>UserAgent-9872</td><td>404</td><td>3600</td></tr><tr><td>2024-02-27T12:45:20.659803Z</td><td>192.168.41.237</td><td>UserAgent-4421</td><td>500</td><td>8682</td></tr><tr><td>2024-02-25T08:05:17.659803Z</td><td>192.168.157.139</td><td>UserAgent-3723</td><td>404</td><td>6321</td></tr><tr><td>2023-04-07T11:41:34.659803Z</td><td>192.168.37.37</td><td>UserAgent-6937</td><td>200</td><td>5113</td></tr><tr><td>2023-06-17T14:56:53.659803Z</td><td>192.168.209.114</td><td>UserAgent-9367</td><td>200</td><td>2484</td></tr><tr><td>2023-12-25T23:53:13.659803Z</td><td>192.168.101.224</td><td>UserAgent-6764</td><td>500</td><td>9934</td></tr><tr><td>2023-12-29T13:08:34.660804Z</td><td>192.168.123.32</td><td>UserAgent-5389</td><td>200</td><td>4096</td></tr><tr><td>2023-12-21T20:37:07.660804Z</td><td>192.168.138.166</td><td>UserAgent-5116</td><td>500</td><td>9287</td></tr><tr><td>2023-10-28T10:44:48.660804Z</td><td>192.168.15.137</td><td>UserAgent-6091</td><td>500</td><td>3134</td></tr><tr><td>2023-09-06T17:43:37.660804Z</td><td>192.168.22.187</td><td>UserAgent-3415</td><td>200</td><td>4875</td></tr><tr><td>2023-07-07T21:30:54.660804Z</td><td>192.168.3.121</td><td>UserAgent-3448</td><td>500</td><td>6694</td></tr><tr><td>2023-07-20T23:49:32.660804Z</td><td>192.168.48.216</td><td>UserAgent-1564</td><td>200</td><td>2495</td></tr><tr><td>2023-12-17T02:59:26.660804Z</td><td>192.168.149.81</td><td>UserAgent-3407</td><td>200</td><td>2324</td></tr><tr><td>2023-12-26T06:14:08.660804Z</td><td>192.168.141.222</td><td>UserAgent-8060</td><td>200</td><td>1968</td></tr><tr><td>2024-01-29T21:21:42.660804Z</td><td>192.168.12.33</td><td>UserAgent-2426</td><td>404</td><td>4311</td></tr><tr><td>2023-12-30T16:01:39.660804Z</td><td>192.168.109.168</td><td>UserAgent-7438</td><td>500</td><td>5821</td></tr><tr><td>2023-09-03T15:51:38.660804Z</td><td>192.168.195.64</td><td>UserAgent-1612</td><td>200</td><td>1843</td></tr><tr><td>2023-10-08T12:15:19.660804Z</td><td>192.168.198.18</td><td>UserAgent-3828</td><td>500</td><td>3652</td></tr><tr><td>2023-10-08T05:13:24.660804Z</td><td>192.168.44.87</td><td>UserAgent-6832</td><td>404</td><td>614</td></tr><tr><td>2023-05-13T19:18:35.660804Z</td><td>192.168.112.141</td><td>UserAgent-9347</td><td>200</td><td>424</td></tr><tr><td>2023-09-01T00:45:54.660804Z</td><td>192.168.17.172</td><td>UserAgent-6156</td><td>404</td><td>4406</td></tr><tr><td>2024-01-17T14:56:59.660804Z</td><td>192.168.136.120</td><td>UserAgent-6647</td><td>404</td><td>3077</td></tr><tr><td>2023-12-31T10:25:22.660804Z</td><td>192.168.17.64</td><td>UserAgent-2080</td><td>500</td><td>3700</td></tr><tr><td>2024-01-19T08:25:47.660804Z</td><td>192.168.134.207</td><td>UserAgent-8029</td><td>404</td><td>2959</td></tr><tr><td>2023-07-14T15:25:13.660804Z</td><td>192.168.74.144</td><td>UserAgent-5325</td><td>404</td><td>2655</td></tr><tr><td>2023-05-06T22:12:52.660804Z</td><td>192.168.101.171</td><td>UserAgent-2101</td><td>404</td><td>7778</td></tr><tr><td>2023-07-31T16:54:31.660804Z</td><td>192.168.93.9</td><td>UserAgent-7899</td><td>404</td><td>5418</td></tr><tr><td>2023-07-10T03:30:25.660804Z</td><td>192.168.160.189</td><td>UserAgent-3297</td><td>500</td><td>4070</td></tr><tr><td>2023-03-08T09:51:30.660804Z</td><td>192.168.93.156</td><td>UserAgent-6017</td><td>404</td><td>9666</td></tr><tr><td>2023-10-19T20:01:02.660804Z</td><td>192.168.80.28</td><td>UserAgent-5814</td><td>404</td><td>7560</td></tr><tr><td>2024-02-12T05:42:38.660804Z</td><td>192.168.158.120</td><td>UserAgent-8230</td><td>404</td><td>9583</td></tr><tr><td>2023-12-28T01:49:17.660804Z</td><td>192.168.109.169</td><td>UserAgent-3280</td><td>404</td><td>2131</td></tr><tr><td>2023-11-09T22:32:25.660804Z</td><td>192.168.37.84</td><td>UserAgent-9805</td><td>200</td><td>598</td></tr><tr><td>2023-05-29T18:38:35.660804Z</td><td>192.168.248.47</td><td>UserAgent-2719</td><td>200</td><td>3378</td></tr><tr><td>2023-12-16T03:06:59.660804Z</td><td>192.168.217.70</td><td>UserAgent-6777</td><td>404</td><td>9389</td></tr><tr><td>2023-12-10T08:43:21.660804Z</td><td>192.168.143.69</td><td>UserAgent-5894</td><td>404</td><td>6120</td></tr><tr><td>2023-08-09T19:09:54.660804Z</td><td>192.168.50.5</td><td>UserAgent-8968</td><td>404</td><td>9704</td></tr><tr><td>2023-11-18T21:08:59.660804Z</td><td>192.168.44.191</td><td>UserAgent-5133</td><td>500</td><td>968</td></tr><tr><td>2023-06-24T23:45:22.660804Z</td><td>192.168.107.121</td><td>UserAgent-9627</td><td>500</td><td>6114</td></tr><tr><td>2023-12-12T00:00:12.660804Z</td><td>192.168.63.226</td><td>UserAgent-7658</td><td>500</td><td>8137</td></tr><tr><td>2024-01-19T22:45:44.660804Z</td><td>192.168.207.179</td><td>UserAgent-4180</td><td>404</td><td>1326</td></tr><tr><td>2023-09-03T14:28:06.660804Z</td><td>192.168.86.255</td><td>UserAgent-8918</td><td>200</td><td>7626</td></tr><tr><td>2023-11-12T21:38:20.660804Z</td><td>192.168.60.170</td><td>UserAgent-7349</td><td>500</td><td>384</td></tr><tr><td>2023-07-07T07:44:04.660804Z</td><td>192.168.156.83</td><td>UserAgent-8346</td><td>200</td><td>6159</td></tr><tr><td>2023-03-28T13:40:50.660804Z</td><td>192.168.130.149</td><td>UserAgent-6012</td><td>404</td><td>7501</td></tr><tr><td>2023-05-24T14:57:56.660804Z</td><td>192.168.217.82</td><td>UserAgent-2406</td><td>404</td><td>6512</td></tr><tr><td>2023-03-23T02:48:18.660804Z</td><td>192.168.68.41</td><td>UserAgent-9568</td><td>404</td><td>3286</td></tr><tr><td>2023-12-10T14:52:50.660804Z</td><td>192.168.141.3</td><td>UserAgent-4895</td><td>404</td><td>7062</td></tr><tr><td>2023-05-08T01:58:40.660804Z</td><td>192.168.213.46</td><td>UserAgent-8481</td><td>200</td><td>1736</td></tr><tr><td>2023-08-06T18:30:15.660804Z</td><td>192.168.112.108</td><td>UserAgent-3334</td><td>500</td><td>1954</td></tr><tr><td>2023-04-22T11:32:42.660804Z</td><td>192.168.207.20</td><td>UserAgent-8048</td><td>200</td><td>7164</td></tr><tr><td>2023-08-18T18:05:33.660804Z</td><td>192.168.183.17</td><td>UserAgent-3902</td><td>404</td><td>5125</td></tr><tr><td>2023-04-15T00:05:01.660804Z</td><td>192.168.45.223</td><td>UserAgent-9070</td><td>200</td><td>5203</td></tr><tr><td>2023-11-21T16:36:32.660804Z</td><td>192.168.235.221</td><td>UserAgent-2980</td><td>200</td><td>6950</td></tr><tr><td>2023-12-31T22:06:24.660804Z</td><td>192.168.117.121</td><td>UserAgent-8368</td><td>500</td><td>7091</td></tr><tr><td>2023-06-21T19:02:26.660804Z</td><td>192.168.152.163</td><td>UserAgent-6354</td><td>500</td><td>1425</td></tr><tr><td>2023-11-15T16:46:55.660804Z</td><td>192.168.63.16</td><td>UserAgent-8358</td><td>200</td><td>4224</td></tr><tr><td>2023-05-06T21:39:36.660804Z</td><td>192.168.3.69</td><td>UserAgent-8214</td><td>200</td><td>3035</td></tr><tr><td>2023-06-09T10:48:49.660804Z</td><td>192.168.198.59</td><td>UserAgent-4977</td><td>500</td><td>6451</td></tr><tr><td>2023-07-27T23:16:36.660804Z</td><td>192.168.128.107</td><td>UserAgent-6282</td><td>500</td><td>8266</td></tr><tr><td>2024-02-05T19:00:08.660804Z</td><td>192.168.139.2</td><td>UserAgent-9350</td><td>200</td><td>4218</td></tr><tr><td>2023-10-19T21:33:16.660804Z</td><td>192.168.134.242</td><td>UserAgent-8458</td><td>200</td><td>4109</td></tr><tr><td>2023-10-04T15:39:03.660804Z</td><td>192.168.71.245</td><td>UserAgent-8265</td><td>200</td><td>5454</td></tr></tbody></table></div>"
      ]
     },
     "metadata": {
      "application/vnd.databricks.v1+output": {
       "addedWidgets": {},
       "aggData": [],
       "aggError": "",
       "aggOverflow": false,
       "aggSchema": [],
       "aggSeriesLimitReached": false,
       "aggType": "",
       "arguments": {},
       "columnCustomDisplayInfos": {},
       "data": [
        [
         "2023-04-16T05:13:53.659803Z",
         "192.168.87.28",
         "UserAgent-5989",
         200,
         3738
        ],
        [
         "2023-08-29T02:58:07.659803Z",
         "192.168.97.78",
         "UserAgent-5915",
         200,
         6050
        ],
        [
         "2023-12-16T17:36:16.659803Z",
         "192.168.1.40",
         "UserAgent-2408",
         200,
         3640
        ],
        [
         "2024-02-08T21:38:23.659803Z",
         "192.168.63.146",
         "UserAgent-7203",
         200,
         8178
        ],
        [
         "2023-07-15T05:30:23.659803Z",
         "192.168.139.169",
         "UserAgent-5160",
         500,
         4085
        ],
        [
         "2023-10-13T14:08:09.659803Z",
         "192.168.59.34",
         "UserAgent-5856",
         200,
         1060
        ],
        [
         "2024-02-14T11:35:54.659803Z",
         "192.168.160.40",
         "UserAgent-3677",
         200,
         1224
        ],
        [
         "2023-03-15T17:12:12.659803Z",
         "192.168.142.236",
         "UserAgent-7323",
         200,
         877
        ],
        [
         "2023-06-09T20:46:27.659803Z",
         "192.168.151.51",
         "UserAgent-1747",
         404,
         7617
        ],
        [
         "2023-04-13T03:56:16.659803Z",
         "192.168.244.63",
         "UserAgent-4898",
         500,
         6967
        ],
        [
         "2023-07-29T19:29:48.659803Z",
         "192.168.137.138",
         "UserAgent-9472",
         404,
         6197
        ],
        [
         "2023-09-10T05:17:20.659803Z",
         "192.168.190.21",
         "UserAgent-6139",
         200,
         4827
        ],
        [
         "2024-02-13T16:10:27.659803Z",
         "192.168.128.83",
         "UserAgent-8799",
         404,
         1144
        ],
        [
         "2024-02-19T11:18:58.659803Z",
         "192.168.98.33",
         "UserAgent-6161",
         200,
         8526
        ],
        [
         "2023-09-20T08:46:55.659803Z",
         "192.168.157.69",
         "UserAgent-9229",
         404,
         4674
        ],
        [
         "2024-01-11T02:15:22.659803Z",
         "192.168.85.170",
         "UserAgent-9247",
         200,
         9686
        ],
        [
         "2023-11-26T09:23:36.659803Z",
         "192.168.217.83",
         "UserAgent-4598",
         200,
         2269
        ],
        [
         "2024-02-10T09:16:01.659803Z",
         "192.168.46.118",
         "UserAgent-8152",
         500,
         2139
        ],
        [
         "2023-06-19T18:29:06.659803Z",
         "192.168.51.137",
         "UserAgent-4939",
         500,
         2953
        ],
        [
         "2024-02-07T05:10:41.659803Z",
         "192.168.98.231",
         "UserAgent-8840",
         404,
         4043
        ],
        [
         "2024-02-11T18:39:12.659803Z",
         "192.168.176.63",
         "UserAgent-7403",
         404,
         7428
        ],
        [
         "2023-12-20T17:48:52.659803Z",
         "192.168.99.51",
         "UserAgent-9419",
         500,
         2325
        ],
        [
         "2023-08-03T07:45:20.659803Z",
         "192.168.1.58",
         "UserAgent-3454",
         404,
         2709
        ],
        [
         "2024-02-09T12:05:54.659803Z",
         "192.168.4.32",
         "UserAgent-4092",
         200,
         6420
        ],
        [
         "2024-02-19T10:21:21.659803Z",
         "192.168.82.247",
         "UserAgent-6342",
         200,
         5141
        ],
        [
         "2023-09-09T09:46:43.659803Z",
         "192.168.56.86",
         "UserAgent-3992",
         404,
         6776
        ],
        [
         "2023-06-17T20:50:21.659803Z",
         "192.168.220.170",
         "UserAgent-1007",
         404,
         9761
        ],
        [
         "2023-05-17T10:38:59.659803Z",
         "192.168.41.11",
         "UserAgent-5779",
         404,
         5488
        ],
        [
         "2023-08-24T08:10:24.659803Z",
         "192.168.28.86",
         "UserAgent-7658",
         500,
         680
        ],
        [
         "2023-07-10T11:57:42.659803Z",
         "192.168.10.253",
         "UserAgent-6243",
         200,
         4747
        ],
        [
         "2023-07-13T23:03:07.659803Z",
         "192.168.149.198",
         "UserAgent-7676",
         404,
         5194
        ],
        [
         "2023-10-24T14:10:39.659803Z",
         "192.168.82.216",
         "UserAgent-5146",
         200,
         4719
        ],
        [
         "2023-09-06T20:41:04.659803Z",
         "192.168.15.77",
         "UserAgent-3571",
         200,
         5392
        ],
        [
         "2023-05-15T13:34:14.659803Z",
         "192.168.202.216",
         "UserAgent-9797",
         404,
         4735
        ],
        [
         "2023-10-21T10:19:13.659803Z",
         "192.168.25.250",
         "UserAgent-5142",
         500,
         3846
        ],
        [
         "2023-08-07T20:14:17.659803Z",
         "192.168.67.94",
         "UserAgent-6587",
         404,
         3783
        ],
        [
         "2024-01-01T02:19:48.659803Z",
         "192.168.96.58",
         "UserAgent-6917",
         404,
         9309
        ],
        [
         "2023-06-18T14:20:36.659803Z",
         "192.168.29.150",
         "UserAgent-9872",
         404,
         3600
        ],
        [
         "2024-02-27T12:45:20.659803Z",
         "192.168.41.237",
         "UserAgent-4421",
         500,
         8682
        ],
        [
         "2024-02-25T08:05:17.659803Z",
         "192.168.157.139",
         "UserAgent-3723",
         404,
         6321
        ],
        [
         "2023-04-07T11:41:34.659803Z",
         "192.168.37.37",
         "UserAgent-6937",
         200,
         5113
        ],
        [
         "2023-06-17T14:56:53.659803Z",
         "192.168.209.114",
         "UserAgent-9367",
         200,
         2484
        ],
        [
         "2023-12-25T23:53:13.659803Z",
         "192.168.101.224",
         "UserAgent-6764",
         500,
         9934
        ],
        [
         "2023-12-29T13:08:34.660804Z",
         "192.168.123.32",
         "UserAgent-5389",
         200,
         4096
        ],
        [
         "2023-12-21T20:37:07.660804Z",
         "192.168.138.166",
         "UserAgent-5116",
         500,
         9287
        ],
        [
         "2023-10-28T10:44:48.660804Z",
         "192.168.15.137",
         "UserAgent-6091",
         500,
         3134
        ],
        [
         "2023-09-06T17:43:37.660804Z",
         "192.168.22.187",
         "UserAgent-3415",
         200,
         4875
        ],
        [
         "2023-07-07T21:30:54.660804Z",
         "192.168.3.121",
         "UserAgent-3448",
         500,
         6694
        ],
        [
         "2023-07-20T23:49:32.660804Z",
         "192.168.48.216",
         "UserAgent-1564",
         200,
         2495
        ],
        [
         "2023-12-17T02:59:26.660804Z",
         "192.168.149.81",
         "UserAgent-3407",
         200,
         2324
        ],
        [
         "2023-12-26T06:14:08.660804Z",
         "192.168.141.222",
         "UserAgent-8060",
         200,
         1968
        ],
        [
         "2024-01-29T21:21:42.660804Z",
         "192.168.12.33",
         "UserAgent-2426",
         404,
         4311
        ],
        [
         "2023-12-30T16:01:39.660804Z",
         "192.168.109.168",
         "UserAgent-7438",
         500,
         5821
        ],
        [
         "2023-09-03T15:51:38.660804Z",
         "192.168.195.64",
         "UserAgent-1612",
         200,
         1843
        ],
        [
         "2023-10-08T12:15:19.660804Z",
         "192.168.198.18",
         "UserAgent-3828",
         500,
         3652
        ],
        [
         "2023-10-08T05:13:24.660804Z",
         "192.168.44.87",
         "UserAgent-6832",
         404,
         614
        ],
        [
         "2023-05-13T19:18:35.660804Z",
         "192.168.112.141",
         "UserAgent-9347",
         200,
         424
        ],
        [
         "2023-09-01T00:45:54.660804Z",
         "192.168.17.172",
         "UserAgent-6156",
         404,
         4406
        ],
        [
         "2024-01-17T14:56:59.660804Z",
         "192.168.136.120",
         "UserAgent-6647",
         404,
         3077
        ],
        [
         "2023-12-31T10:25:22.660804Z",
         "192.168.17.64",
         "UserAgent-2080",
         500,
         3700
        ],
        [
         "2024-01-19T08:25:47.660804Z",
         "192.168.134.207",
         "UserAgent-8029",
         404,
         2959
        ],
        [
         "2023-07-14T15:25:13.660804Z",
         "192.168.74.144",
         "UserAgent-5325",
         404,
         2655
        ],
        [
         "2023-05-06T22:12:52.660804Z",
         "192.168.101.171",
         "UserAgent-2101",
         404,
         7778
        ],
        [
         "2023-07-31T16:54:31.660804Z",
         "192.168.93.9",
         "UserAgent-7899",
         404,
         5418
        ],
        [
         "2023-07-10T03:30:25.660804Z",
         "192.168.160.189",
         "UserAgent-3297",
         500,
         4070
        ],
        [
         "2023-03-08T09:51:30.660804Z",
         "192.168.93.156",
         "UserAgent-6017",
         404,
         9666
        ],
        [
         "2023-10-19T20:01:02.660804Z",
         "192.168.80.28",
         "UserAgent-5814",
         404,
         7560
        ],
        [
         "2024-02-12T05:42:38.660804Z",
         "192.168.158.120",
         "UserAgent-8230",
         404,
         9583
        ],
        [
         "2023-12-28T01:49:17.660804Z",
         "192.168.109.169",
         "UserAgent-3280",
         404,
         2131
        ],
        [
         "2023-11-09T22:32:25.660804Z",
         "192.168.37.84",
         "UserAgent-9805",
         200,
         598
        ],
        [
         "2023-05-29T18:38:35.660804Z",
         "192.168.248.47",
         "UserAgent-2719",
         200,
         3378
        ],
        [
         "2023-12-16T03:06:59.660804Z",
         "192.168.217.70",
         "UserAgent-6777",
         404,
         9389
        ],
        [
         "2023-12-10T08:43:21.660804Z",
         "192.168.143.69",
         "UserAgent-5894",
         404,
         6120
        ],
        [
         "2023-08-09T19:09:54.660804Z",
         "192.168.50.5",
         "UserAgent-8968",
         404,
         9704
        ],
        [
         "2023-11-18T21:08:59.660804Z",
         "192.168.44.191",
         "UserAgent-5133",
         500,
         968
        ],
        [
         "2023-06-24T23:45:22.660804Z",
         "192.168.107.121",
         "UserAgent-9627",
         500,
         6114
        ],
        [
         "2023-12-12T00:00:12.660804Z",
         "192.168.63.226",
         "UserAgent-7658",
         500,
         8137
        ],
        [
         "2024-01-19T22:45:44.660804Z",
         "192.168.207.179",
         "UserAgent-4180",
         404,
         1326
        ],
        [
         "2023-09-03T14:28:06.660804Z",
         "192.168.86.255",
         "UserAgent-8918",
         200,
         7626
        ],
        [
         "2023-11-12T21:38:20.660804Z",
         "192.168.60.170",
         "UserAgent-7349",
         500,
         384
        ],
        [
         "2023-07-07T07:44:04.660804Z",
         "192.168.156.83",
         "UserAgent-8346",
         200,
         6159
        ],
        [
         "2023-03-28T13:40:50.660804Z",
         "192.168.130.149",
         "UserAgent-6012",
         404,
         7501
        ],
        [
         "2023-05-24T14:57:56.660804Z",
         "192.168.217.82",
         "UserAgent-2406",
         404,
         6512
        ],
        [
         "2023-03-23T02:48:18.660804Z",
         "192.168.68.41",
         "UserAgent-9568",
         404,
         3286
        ],
        [
         "2023-12-10T14:52:50.660804Z",
         "192.168.141.3",
         "UserAgent-4895",
         404,
         7062
        ],
        [
         "2023-05-08T01:58:40.660804Z",
         "192.168.213.46",
         "UserAgent-8481",
         200,
         1736
        ],
        [
         "2023-08-06T18:30:15.660804Z",
         "192.168.112.108",
         "UserAgent-3334",
         500,
         1954
        ],
        [
         "2023-04-22T11:32:42.660804Z",
         "192.168.207.20",
         "UserAgent-8048",
         200,
         7164
        ],
        [
         "2023-08-18T18:05:33.660804Z",
         "192.168.183.17",
         "UserAgent-3902",
         404,
         5125
        ],
        [
         "2023-04-15T00:05:01.660804Z",
         "192.168.45.223",
         "UserAgent-9070",
         200,
         5203
        ],
        [
         "2023-11-21T16:36:32.660804Z",
         "192.168.235.221",
         "UserAgent-2980",
         200,
         6950
        ],
        [
         "2023-12-31T22:06:24.660804Z",
         "192.168.117.121",
         "UserAgent-8368",
         500,
         7091
        ],
        [
         "2023-06-21T19:02:26.660804Z",
         "192.168.152.163",
         "UserAgent-6354",
         500,
         1425
        ],
        [
         "2023-11-15T16:46:55.660804Z",
         "192.168.63.16",
         "UserAgent-8358",
         200,
         4224
        ],
        [
         "2023-05-06T21:39:36.660804Z",
         "192.168.3.69",
         "UserAgent-8214",
         200,
         3035
        ],
        [
         "2023-06-09T10:48:49.660804Z",
         "192.168.198.59",
         "UserAgent-4977",
         500,
         6451
        ],
        [
         "2023-07-27T23:16:36.660804Z",
         "192.168.128.107",
         "UserAgent-6282",
         500,
         8266
        ],
        [
         "2024-02-05T19:00:08.660804Z",
         "192.168.139.2",
         "UserAgent-9350",
         200,
         4218
        ],
        [
         "2023-10-19T21:33:16.660804Z",
         "192.168.134.242",
         "UserAgent-8458",
         200,
         4109
        ],
        [
         "2023-10-04T15:39:03.660804Z",
         "192.168.71.245",
         "UserAgent-8265",
         200,
         5454
        ]
       ],
       "datasetInfos": [],
       "dbfsResultPath": null,
       "isJsonSchema": true,
       "metadata": {},
       "overflow": false,
       "plotOptions": {
        "customPlotOptions": {},
        "displayType": "table",
        "pivotAggregation": null,
        "pivotColumns": null,
        "xColumns": null,
        "yColumns": null
       },
       "removedWidgets": [],
       "schema": [
        {
         "metadata": "{}",
         "name": "Timestamp",
         "type": "\"timestamp\""
        },
        {
         "metadata": "{}",
         "name": "IP Address",
         "type": "\"string\""
        },
        {
         "metadata": "{}",
         "name": "User Agent",
         "type": "\"string\""
        },
        {
         "metadata": "{}",
         "name": "HTTP Status",
         "type": "\"integer\""
        },
        {
         "metadata": "{}",
         "name": "Bytes Sent",
         "type": "\"integer\""
        }
       ],
       "type": "table"
      }
     },
     "output_type": "display_data"
    },
    {
     "output_type": "display_data",
     "data": {
      "text/plain": [
       "Databricks visualization. Run in Databricks to view."
      ]
     },
     "metadata": {
      "application/vnd.databricks.v1.subcommand+json": {
       "baseErrorDetails": null,
       "bindings": {},
       "collapsed": false,
       "command": "%python\n__backend_agg_display_orig = display\n__backend_agg_dfs = []\ndef __backend_agg_display_new(df):\n    __backend_agg_df_modules = [\"pandas.core.frame\", \"databricks.koalas.frame\", \"pyspark.sql.dataframe\", \"pyspark.pandas.frame\", \"pyspark.sql.connect.dataframe\"]\n    if (type(df).__module__ in __backend_agg_df_modules and type(df).__name__ == 'DataFrame') or isinstance(df, list):\n        __backend_agg_dfs.append(df)\n\ndisplay = __backend_agg_display_new\n\ndef __backend_agg_user_code_fn():\n    import base64\n    exec(base64.standard_b64decode(\"ZGlzcGxheShkZik=\").decode())\n\ntry:\n    # run user code\n    __backend_agg_user_code_fn()\n\n    #reset display function\n    display = __backend_agg_display_orig\n\n    if len(__backend_agg_dfs) > 0:\n        # create a temp view\n        if type(__backend_agg_dfs[0]).__module__ == \"databricks.koalas.frame\":\n            # koalas dataframe\n            __backend_agg_dfs[0].to_spark().createOrReplaceTempView(\"DatabricksView6e68471\")\n        elif type(__backend_agg_dfs[0]).__module__ == \"pandas.core.frame\" or isinstance(__backend_agg_dfs[0], list):\n            # pandas dataframe\n            spark.createDataFrame(__backend_agg_dfs[0]).createOrReplaceTempView(\"DatabricksView6e68471\")\n        else:\n            __backend_agg_dfs[0].createOrReplaceTempView(\"DatabricksView6e68471\")\n        #run backend agg\n        display(spark.sql(\"\"\"WITH q AS (select * from DatabricksView6e68471) SELECT `Bytes Sent`,`IP Address`,`HTTP Status` FROM q\"\"\"))\n    else:\n        displayHTML(\"dataframe no longer exists. If you're using dataframe.display(), use display(dataframe) instead.\")\n\n\nfinally:\n    spark.sql(\"drop view if exists DatabricksView6e68471\")\n    display = __backend_agg_display_orig\n    del __backend_agg_display_new\n    del __backend_agg_display_orig\n    del __backend_agg_dfs\n    del __backend_agg_user_code_fn\n\n",
       "commandTitle": "Visualization 1",
       "commandType": "auto",
       "commandVersion": 0,
       "commentThread": [],
       "commentsVisible": false,
       "contentSha256Hex": null,
       "customPlotOptions": {
        "redashChart": [
         {
          "key": "type",
          "value": "CHART"
         },
         {
          "key": "options",
          "value": {
           "alignYAxesAtZero": true,
           "coefficient": 1,
           "columnConfigurationMap": {
            "series": {
             "column": "HTTP Status",
             "id": "column_b5fb493710"
            },
            "x": {
             "column": "Bytes Sent",
             "id": "column_b5fb49378"
            },
            "y": [
             {
              "column": "IP Address",
              "id": "column_b5fb49379"
             }
            ]
           },
           "dateTimeFormat": "DD/MM/YYYY HH:mm",
           "direction": {
            "type": "counterclockwise"
           },
           "error_y": {
            "type": "data",
            "visible": true
           },
           "globalSeriesType": "bubble",
           "legend": {
            "traceorder": "normal"
           },
           "missingValuesAsZero": true,
           "numBins": 10,
           "numberFormat": "0,0.[00000]",
           "percentFormat": "0[.]00%",
           "series": {
            "error_y": {
             "type": "data",
             "visible": true
            },
            "stacking": null
           },
           "seriesOptions": {
            "IP Address": {
             "type": "bubble",
             "yAxis": 0
            },
            "column_b5fb49374": {
             "type": "bubble",
             "yAxis": 0
            }
           },
           "showDataLabels": false,
           "sizemode": "diameter",
           "sortX": true,
           "sortY": true,
           "swappedAxes": false,
           "textFormat": "",
           "useAggregationsUi": true,
           "valuesOptions": {},
           "version": 2,
           "xAxis": {
            "labels": {
             "enabled": true
            },
            "type": "-"
           },
           "yAxis": [
            {
             "type": "-"
            },
            {
             "opposite": true,
             "type": "-"
            }
           ]
          }
         }
        ]
       },
       "datasetPreviewNameToCmdIdMap": {},
       "diffDeletes": [],
       "diffInserts": [],
       "displayType": "redashChart",
       "error": null,
       "errorDetails": null,
       "errorSummary": null,
       "errorTraceType": null,
       "finishTime": 0,
       "globalVars": {},
       "guid": "",
       "height": "auto",
       "hideCommandCode": false,
       "hideCommandResult": false,
       "iPythonMetadata": null,
       "inputWidgets": {},
       "isLockedInExamMode": false,
       "latestUser": "a user",
       "latestUserId": null,
       "listResultMetadata": null,
       "metadata": {},
       "nuid": "dbb0a149-e16e-4e7f-b9a2-18644d099f5d",
       "origId": 0,
       "parentHierarchy": [],
       "pivotAggregation": null,
       "pivotColumns": null,
       "position": 19.0,
       "resultDbfsErrorMessage": null,
       "resultDbfsStatus": "INLINED_IN_TREE",
       "results": null,
       "showCommandTitle": false,
       "startTime": 0,
       "state": "input",
       "streamStates": {},
       "subcommandOptions": {
        "queryPlan": {
         "selects": [
          {
           "column": "Bytes Sent",
           "type": "column"
          },
          {
           "column": "IP Address",
           "type": "column"
          },
          {
           "column": "HTTP Status",
           "type": "column"
          }
         ]
        }
       },
       "submitTime": 0,
       "subtype": "tableResultSubCmd.visualization",
       "tableResultIndex": 0,
       "useConsistentColors": false,
       "version": "CommandV1",
       "width": "auto",
       "workflows": [],
       "xColumns": null,
       "yColumns": null
      }
     },
     "output_type": "display_data"
    },
    {
     "output_type": "display_data",
     "data": {
      "text/plain": [
       "Databricks visualization. Run in Databricks to view."
      ]
     },
     "metadata": {
      "application/vnd.databricks.v1.subcommand+json": {
       "baseErrorDetails": null,
       "bindings": {},
       "collapsed": false,
       "command": "%python\n__backend_agg_display_orig = display\n__backend_agg_dfs = []\ndef __backend_agg_display_new(df):\n    __backend_agg_df_modules = [\"pandas.core.frame\", \"databricks.koalas.frame\", \"pyspark.sql.dataframe\", \"pyspark.pandas.frame\", \"pyspark.sql.connect.dataframe\"]\n    if (type(df).__module__ in __backend_agg_df_modules and type(df).__name__ == 'DataFrame') or isinstance(df, list):\n        __backend_agg_dfs.append(df)\n\ndisplay = __backend_agg_display_new\n\ndef __backend_agg_user_code_fn():\n    import base64\n    exec(base64.standard_b64decode(\"ZGlzcGxheShkZik=\").decode())\n\ntry:\n    # run user code\n    __backend_agg_user_code_fn()\n\n    #reset display function\n    display = __backend_agg_display_orig\n\n    if len(__backend_agg_dfs) > 0:\n        # create a temp view\n        if type(__backend_agg_dfs[0]).__module__ == \"databricks.koalas.frame\":\n            # koalas dataframe\n            __backend_agg_dfs[0].to_spark().createOrReplaceTempView(\"DatabricksView08d3a32\")\n        elif type(__backend_agg_dfs[0]).__module__ == \"pandas.core.frame\" or isinstance(__backend_agg_dfs[0], list):\n            # pandas dataframe\n            spark.createDataFrame(__backend_agg_dfs[0]).createOrReplaceTempView(\"DatabricksView08d3a32\")\n        else:\n            __backend_agg_dfs[0].createOrReplaceTempView(\"DatabricksView08d3a32\")\n        #run backend agg\n        display(spark.sql(\"\"\"WITH q AS (select * from DatabricksView08d3a32) SELECT `IP Address`,SUM(`HTTP Status`) `column_b5fb493713`,`Timestamp` FROM q GROUP BY `IP Address`,`Timestamp`\"\"\"))\n    else:\n        displayHTML(\"dataframe no longer exists. If you're using dataframe.display(), use display(dataframe) instead.\")\n\n\nfinally:\n    spark.sql(\"drop view if exists DatabricksView08d3a32\")\n    display = __backend_agg_display_orig\n    del __backend_agg_display_new\n    del __backend_agg_display_orig\n    del __backend_agg_dfs\n    del __backend_agg_user_code_fn\n\n",
       "commandTitle": "Visualization 2",
       "commandType": "auto",
       "commandVersion": 0,
       "commentThread": [],
       "commentsVisible": false,
       "contentSha256Hex": null,
       "customPlotOptions": {
        "redashChart": [
         {
          "key": "type",
          "value": "CHART"
         },
         {
          "key": "options",
          "value": {
           "alignYAxesAtZero": true,
           "coefficient": 1,
           "columnConfigurationMap": {
            "series": {
             "column": "Timestamp",
             "id": "column_b5fb493715"
            },
            "x": {
             "column": "IP Address",
             "id": "column_b5fb493711"
            },
            "y": [
             {
              "column": "HTTP Status",
              "id": "column_b5fb493713",
              "transform": "SUM"
             }
            ]
           },
           "dateTimeFormat": "DD/MM/YYYY HH:mm",
           "direction": {
            "type": "counterclockwise"
           },
           "error_y": {
            "type": "data",
            "visible": true
           },
           "globalSeriesType": "line",
           "isAggregationOn": true,
           "legend": {
            "traceorder": "normal"
           },
           "missingValuesAsZero": true,
           "numberFormat": "0,0.[00000]",
           "percentFormat": "0[.]00%",
           "series": {
            "error_y": {
             "type": "data",
             "visible": true
            },
            "stacking": null
           },
           "seriesOptions": {
            "column_b5fb493713": {
             "type": "line",
             "yAxis": 0
            }
           },
           "showDataLabels": false,
           "sizemode": "diameter",
           "sortX": true,
           "sortY": true,
           "swappedAxes": false,
           "textFormat": "",
           "useAggregationsUi": true,
           "valuesOptions": {},
           "version": 2,
           "xAxis": {
            "labels": {
             "enabled": true
            },
            "type": "-"
           },
           "yAxis": [
            {
             "type": "-"
            },
            {
             "opposite": true,
             "type": "-"
            }
           ]
          }
         }
        ]
       },
       "datasetPreviewNameToCmdIdMap": {},
       "diffDeletes": [],
       "diffInserts": [],
       "displayType": "redashChart",
       "error": null,
       "errorDetails": null,
       "errorSummary": null,
       "errorTraceType": null,
       "finishTime": 0,
       "globalVars": {},
       "guid": "",
       "height": "auto",
       "hideCommandCode": false,
       "hideCommandResult": false,
       "iPythonMetadata": null,
       "inputWidgets": {},
       "isLockedInExamMode": false,
       "latestUser": "a user",
       "latestUserId": null,
       "listResultMetadata": null,
       "metadata": {},
       "nuid": "61edd9ff-699c-45bd-852a-2a9a3924276b",
       "origId": 0,
       "parentHierarchy": [],
       "pivotAggregation": null,
       "pivotColumns": null,
       "position": 20.0,
       "resultDbfsErrorMessage": null,
       "resultDbfsStatus": "INLINED_IN_TREE",
       "results": null,
       "showCommandTitle": false,
       "startTime": 0,
       "state": "input",
       "streamStates": {},
       "subcommandOptions": {
        "queryPlan": {
         "groups": [
          {
           "column": "IP Address",
           "type": "column"
          },
          {
           "column": "Timestamp",
           "type": "column"
          }
         ],
         "selects": [
          {
           "column": "IP Address",
           "type": "column"
          },
          {
           "alias": "column_b5fb493713",
           "args": [
            {
             "column": "HTTP Status",
             "type": "column"
            }
           ],
           "function": "SUM",
           "type": "function"
          },
          {
           "column": "Timestamp",
           "type": "column"
          }
         ]
        }
       },
       "submitTime": 0,
       "subtype": "tableResultSubCmd.visualization",
       "tableResultIndex": 0,
       "useConsistentColors": false,
       "version": "CommandV1",
       "width": "auto",
       "workflows": [],
       "xColumns": null,
       "yColumns": null
      }
     },
     "output_type": "display_data"
    }
   ],
   "source": [
    "display(df)"
   ]
  },
  {
   "cell_type": "markdown",
   "metadata": {
    "application/vnd.databricks.v1+cell": {
     "cellMetadata": {},
     "inputWidgets": {},
     "nuid": "47e37a2c-3d3b-4f0b-8587-859b52c24e33",
     "showTitle": false,
     "title": ""
    }
   },
   "source": [
    "HANDLING MISSING VALUES"
   ]
  },
  {
   "cell_type": "code",
   "execution_count": 0,
   "metadata": {
    "application/vnd.databricks.v1+cell": {
     "cellMetadata": {
      "byteLimit": 2048000,
      "rowLimit": 10000
     },
     "inputWidgets": {},
     "nuid": "70f83a84-bb27-4cfd-b568-e883bb9b6fb5",
     "showTitle": false,
     "title": ""
    }
   },
   "outputs": [],
   "source": [
    "df = df.na.drop()"
   ]
  },
  {
   "cell_type": "markdown",
   "metadata": {
    "application/vnd.databricks.v1+cell": {
     "cellMetadata": {},
     "inputWidgets": {},
     "nuid": "36b22917-1210-49b9-adcd-a663276682e4",
     "showTitle": false,
     "title": ""
    }
   },
   "source": [
    "LETS COMPUTE BASIC STATISTICS FOR NUMERICAL COLUMNS"
   ]
  },
  {
   "cell_type": "code",
   "execution_count": 0,
   "metadata": {
    "application/vnd.databricks.v1+cell": {
     "cellMetadata": {
      "byteLimit": 2048000,
      "rowLimit": 10000
     },
     "inputWidgets": {},
     "nuid": "59fe10e7-e6e9-424d-be3a-8e9f79c903d4",
     "showTitle": false,
     "title": ""
    }
   },
   "outputs": [
    {
     "output_type": "stream",
     "name": "stdout",
     "output_type": "stream",
     "text": [
      "+-------+-------------+--------------+------------------+------------------+\n|summary|   IP Address|    User Agent|       HTTP Status|        Bytes Sent|\n+-------+-------------+--------------+------------------+------------------+\n|  count|          100|           100|               100|               100|\n|   mean|         NULL|          NULL|            350.48|           4856.91|\n| stddev|         NULL|          NULL|124.12802774847937|2612.2662791205453|\n|    min| 192.168.1.40|UserAgent-1007|               200|               384|\n|    max|192.168.99.51|UserAgent-9872|               500|              9934|\n+-------+-------------+--------------+------------------+------------------+\n\n"
     ]
    }
   ],
   "source": [
    "df.describe().show()"
   ]
  },
  {
   "cell_type": "markdown",
   "metadata": {
    "application/vnd.databricks.v1+cell": {
     "cellMetadata": {},
     "inputWidgets": {},
     "nuid": "ad7f7910-223c-437c-ba59-87048d7db20d",
     "showTitle": false,
     "title": ""
    }
   },
   "source": [
    "FINDING ERROR RATE"
   ]
  },
  {
   "cell_type": "code",
   "execution_count": 0,
   "metadata": {
    "application/vnd.databricks.v1+cell": {
     "cellMetadata": {
      "byteLimit": 2048000,
      "rowLimit": 10000
     },
     "inputWidgets": {},
     "nuid": "bcd38336-ef20-4d60-8972-d693d7e8f993",
     "showTitle": false,
     "title": ""
    }
   },
   "outputs": [],
   "source": [
    "total_records = df.count()"
   ]
  },
  {
   "cell_type": "code",
   "execution_count": 0,
   "metadata": {
    "application/vnd.databricks.v1+cell": {
     "cellMetadata": {
      "byteLimit": 2048000,
      "rowLimit": 10000
     },
     "inputWidgets": {},
     "nuid": "ec9c74af-cf68-4c0d-b232-fae08f8e356d",
     "showTitle": false,
     "title": ""
    }
   },
   "outputs": [],
   "source": [
    "from pyspark.sql.functions import col\n",
    "error_records = df.filter((col('HTTP Status') == 404) | (col('HTTP Status') == 500)).count()"
   ]
  },
  {
   "cell_type": "code",
   "execution_count": 0,
   "metadata": {
    "application/vnd.databricks.v1+cell": {
     "cellMetadata": {
      "byteLimit": 2048000,
      "rowLimit": 10000
     },
     "inputWidgets": {},
     "nuid": "0a342c39-4bd2-49de-8be7-26cd6e03c17f",
     "showTitle": false,
     "title": ""
    }
   },
   "outputs": [
    {
     "output_type": "execute_result",
     "data": {
      "text/plain": [
       "62.0"
      ]
     },
     "execution_count": 20,
     "metadata": {},
     "output_type": "execute_result"
    }
   ],
   "source": [
    "error_rate = (error_records / total_records) * 100\n",
    "error_rate"
   ]
  },
  {
   "cell_type": "markdown",
   "metadata": {
    "application/vnd.databricks.v1+cell": {
     "cellMetadata": {},
     "inputWidgets": {},
     "nuid": "b841c506-21a6-43d5-90ce-a5e78e46d0c6",
     "showTitle": false,
     "title": ""
    }
   },
   "source": [
    "ANALYZING TRENDS\n",
    "(WE CAN ANALYZE TRENDS BY GROUPING DATA BY A CERTAIN TIME INTERVAL)"
   ]
  },
  {
   "cell_type": "code",
   "execution_count": 0,
   "metadata": {
    "application/vnd.databricks.v1+cell": {
     "cellMetadata": {
      "byteLimit": 2048000,
      "rowLimit": 10000
     },
     "inputWidgets": {},
     "nuid": "69f9a163-0a6d-432d-aaf5-f78e02caea61",
     "showTitle": false,
     "title": ""
    }
   },
   "outputs": [],
   "source": [
    "trends = df.groupBy(df.Timestamp.cast(\"date\").alias(\"Date\"), \"HTTP Status\").count().orderBy(\"Date\")"
   ]
  },
  {
   "cell_type": "markdown",
   "metadata": {
    "application/vnd.databricks.v1+cell": {
     "cellMetadata": {},
     "inputWidgets": {},
     "nuid": "36c596ac-ba2f-444a-8ed8-2525860f97c1",
     "showTitle": false,
     "title": ""
    }
   },
   "source": [
    "TREND OF HTTP STATUS OVER TIME"
   ]
  },
  {
   "cell_type": "code",
   "execution_count": 0,
   "metadata": {
    "application/vnd.databricks.v1+cell": {
     "cellMetadata": {
      "byteLimit": 2048000,
      "rowLimit": 10000
     },
     "inputWidgets": {},
     "nuid": "d7a301db-0895-4fe3-9cdb-f2adcdc3ed5e",
     "showTitle": false,
     "title": ""
    }
   },
   "outputs": [
    {
     "output_type": "stream",
     "name": "stdout",
     "output_type": "stream",
     "text": [
      "+----------+-----------+-----+\n|      Date|HTTP Status|count|\n+----------+-----------+-----+\n|2023-03-08|        404|    1|\n|2023-03-15|        200|    1|\n|2023-03-23|        404|    1|\n|2023-03-28|        404|    1|\n|2023-04-07|        200|    1|\n|2023-04-13|        500|    1|\n|2023-04-15|        200|    1|\n|2023-04-16|        200|    1|\n|2023-04-22|        200|    1|\n|2023-05-06|        404|    1|\n+----------+-----------+-----+\nonly showing top 10 rows\n\n"
     ]
    }
   ],
   "source": [
    "trends.show(10)"
   ]
  },
  {
   "cell_type": "markdown",
   "metadata": {
    "application/vnd.databricks.v1+cell": {
     "cellMetadata": {},
     "inputWidgets": {},
     "nuid": "88abb985-3d4c-4d95-9b5a-112f988c3559",
     "showTitle": false,
     "title": ""
    }
   },
   "source": [
    "TREND OF IP ADDRESSES OVER TIME"
   ]
  },
  {
   "cell_type": "code",
   "execution_count": 0,
   "metadata": {
    "application/vnd.databricks.v1+cell": {
     "cellMetadata": {
      "byteLimit": 2048000,
      "rowLimit": 10000
     },
     "inputWidgets": {},
     "nuid": "61f1c97b-7bc7-483d-9f6f-dbc9e6072fcc",
     "showTitle": false,
     "title": ""
    }
   },
   "outputs": [],
   "source": [
    "IP_trends = df.groupBy(df.Timestamp.cast(\"date\").alias(\"Date\"), \"IP Address\").count().orderBy(\"Date\")"
   ]
  },
  {
   "cell_type": "markdown",
   "metadata": {
    "application/vnd.databricks.v1+cell": {
     "cellMetadata": {},
     "inputWidgets": {},
     "nuid": "cc2220e1-e14f-4822-ac1e-7664124895f9",
     "showTitle": false,
     "title": ""
    }
   },
   "source": [
    "TRENDS OF REQUESTS FROM IP ADDRESSES OVER TIME"
   ]
  },
  {
   "cell_type": "code",
   "execution_count": 0,
   "metadata": {
    "application/vnd.databricks.v1+cell": {
     "cellMetadata": {
      "byteLimit": 2048000,
      "rowLimit": 10000
     },
     "inputWidgets": {},
     "nuid": "d9c6e7e1-9dff-447b-aa67-eba542c62800",
     "showTitle": false,
     "title": ""
    }
   },
   "outputs": [
    {
     "output_type": "stream",
     "name": "stdout",
     "output_type": "stream",
     "text": [
      "+----------+---------------+-----+\n|      Date|     IP Address|count|\n+----------+---------------+-----+\n|2023-03-08| 192.168.93.156|    1|\n|2023-03-15|192.168.142.236|    1|\n|2023-03-23|  192.168.68.41|    1|\n|2023-03-28|192.168.130.149|    1|\n|2023-04-07|  192.168.37.37|    1|\n|2023-04-13| 192.168.244.63|    1|\n|2023-04-15| 192.168.45.223|    1|\n|2023-04-16|  192.168.87.28|    1|\n|2023-04-22| 192.168.207.20|    1|\n|2023-05-06|   192.168.3.69|    1|\n+----------+---------------+-----+\nonly showing top 10 rows\n\n"
     ]
    }
   ],
   "source": [
    "IP_trends.show(10)"
   ]
  }
 ],
 "metadata": {
  "application/vnd.databricks.v1+notebook": {
   "dashboards": [],
   "language": "python",
   "notebookMetadata": {
    "pythonIndentUnit": 4
   },
   "notebookName": "Untitled Notebook 2024-02-29 13:08:29",
   "widgets": {}
  }
 },
 "nbformat": 4,
 "nbformat_minor": 0
}
