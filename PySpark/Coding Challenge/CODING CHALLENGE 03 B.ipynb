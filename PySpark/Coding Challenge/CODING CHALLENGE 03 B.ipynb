{
 "cells": [
  {
   "cell_type": "code",
   "execution_count": 0,
   "metadata": {
    "application/vnd.databricks.v1+cell": {
     "cellMetadata": {
      "byteLimit": 2048000,
      "rowLimit": 10000
     },
     "inputWidgets": {},
     "nuid": "18838c07-6ee3-4f31-8b9b-a1b1b44b7f09",
     "showTitle": false,
     "title": ""
    }
   },
   "outputs": [
    {
     "output_type": "stream",
     "name": "stdout",
     "output_type": "stream",
     "text": [
      "Contents of df1:\n+-------+---+\n|   Name|Age|\n+-------+---+\n|  Alice| 34|\n|    Bob| 45|\n|Charlie| 25|\n+-------+---+\n\nContents of df2:\n+-----+-----------+\n| Name|       City|\n+-----+-----------+\n|Alice|   New York|\n|  Bob|Los Angeles|\n| Dave|    Chicago|\n+-----+-----------+\n\n"
     ]
    }
   ],
   "source": [
    "# Import required libraries\n",
    "from pyspark.sql import SparkSession\n",
    "from pyspark.sql.functions import col\n",
    "import pandas as pd\n",
    "\n",
    "# Create a SparkSession\n",
    "spark = SparkSession.builder.appName(\"SparkSQL Joins\").getOrCreate()\n",
    "\n",
    "# Sample data for df1\n",
    "data1 = [(\"Alice\", 34), (\"Bob\", 45), (\"Charlie\", 25)]\n",
    "df1 = spark.createDataFrame(data1, [\"Name\", \"Age\"])\n",
    "\n",
    "# Sample data for df2\n",
    "data2 = [(\"Alice\", \"New York\"), (\"Bob\", \"Los Angeles\"), (\"Dave\", \"Chicago\")]\n",
    "df2 = spark.createDataFrame(data2, [\"Name\", \"City\"])\n",
    "\n",
    "# Display the contents of the DataFrames\n",
    "print(\"Contents of df1:\")\n",
    "df1.show()\n",
    "\n",
    "print(\"Contents of df2:\")\n",
    "df2.show()"
   ]
  },
  {
   "cell_type": "code",
   "execution_count": 0,
   "metadata": {
    "application/vnd.databricks.v1+cell": {
     "cellMetadata": {},
     "inputWidgets": {},
     "nuid": "fccd1abe-9d20-487e-897d-1be3bc52ef6f",
     "showTitle": false,
     "title": ""
    }
   },
   "outputs": [],
   "source": [
    "Perform an joins using PySpark SQL"
   ]
  },
  {
   "cell_type": "code",
   "execution_count": 0,
   "metadata": {
    "application/vnd.databricks.v1+cell": {
     "cellMetadata": {},
     "inputWidgets": {},
     "nuid": "89bc1bc9-3fb9-492d-b043-046e19003124",
     "showTitle": false,
     "title": ""
    }
   },
   "outputs": [],
   "source": [
    "Inner join"
   ]
  },
  {
   "cell_type": "code",
   "execution_count": 0,
   "metadata": {
    "application/vnd.databricks.v1+cell": {
     "cellMetadata": {
      "byteLimit": 2048000,
      "rowLimit": 10000
     },
     "inputWidgets": {},
     "nuid": "82c6ab87-a480-4ed9-b9bc-f89caadee36a",
     "showTitle": false,
     "title": ""
    }
   },
   "outputs": [
    {
     "output_type": "stream",
     "name": "stdout",
     "output_type": "stream",
     "text": [
      "+-----+---+-----+-----------+\n| Name|Age| Name|       City|\n+-----+---+-----+-----------+\n|Alice| 34|Alice|   New York|\n|  Bob| 45|  Bob|Los Angeles|\n+-----+---+-----+-----------+\n\n"
     ]
    }
   ],
   "source": [
    "joined_df = df1.join(df2, df1.Name == df2.Name, \"inner\")\n",
    "joined_df.show()"
   ]
  },
  {
   "cell_type": "code",
   "execution_count": 0,
   "metadata": {
    "application/vnd.databricks.v1+cell": {
     "cellMetadata": {},
     "inputWidgets": {},
     "nuid": "e46f27eb-5d0f-4caa-8e9d-34ffa45ebd9e",
     "showTitle": false,
     "title": ""
    }
   },
   "outputs": [],
   "source": [
    "Left Join"
   ]
  },
  {
   "cell_type": "code",
   "execution_count": 0,
   "metadata": {
    "application/vnd.databricks.v1+cell": {
     "cellMetadata": {
      "byteLimit": 2048000,
      "rowLimit": 10000
     },
     "inputWidgets": {},
     "nuid": "a5debec7-8e09-4c37-9c2e-2c171df166ee",
     "showTitle": false,
     "title": ""
    }
   },
   "outputs": [
    {
     "output_type": "stream",
     "name": "stdout",
     "output_type": "stream",
     "text": [
      "+-------+---+-----+-----------+\n|   Name|Age| Name|       City|\n+-------+---+-----+-----------+\n|  Alice| 34|Alice|   New York|\n|    Bob| 45|  Bob|Los Angeles|\n|Charlie| 25| NULL|       NULL|\n+-------+---+-----+-----------+\n\n"
     ]
    }
   ],
   "source": [
    "left_joined_df = df1.join(df2, df1.Name == df2.Name, \"left\")\n",
    "left_joined_df.show()"
   ]
  },
  {
   "cell_type": "code",
   "execution_count": 0,
   "metadata": {
    "application/vnd.databricks.v1+cell": {
     "cellMetadata": {},
     "inputWidgets": {},
     "nuid": "0476a91a-2013-44c7-9292-e45b88f098fa",
     "showTitle": false,
     "title": ""
    }
   },
   "outputs": [],
   "source": [
    "Right Join"
   ]
  },
  {
   "cell_type": "code",
   "execution_count": 0,
   "metadata": {
    "application/vnd.databricks.v1+cell": {
     "cellMetadata": {
      "byteLimit": 2048000,
      "rowLimit": 10000
     },
     "inputWidgets": {},
     "nuid": "fcee6fd1-5fbf-4022-8e70-cb0247c82ec5",
     "showTitle": false,
     "title": ""
    }
   },
   "outputs": [
    {
     "output_type": "stream",
     "name": "stdout",
     "output_type": "stream",
     "text": [
      "+-----+----+-----+-----------+\n| Name| Age| Name|       City|\n+-----+----+-----+-----------+\n|Alice|  34|Alice|   New York|\n|  Bob|  45|  Bob|Los Angeles|\n| NULL|NULL| Dave|    Chicago|\n+-----+----+-----+-----------+\n\n"
     ]
    }
   ],
   "source": [
    "right_joined_df = df1.join(df2, df1.Name == df2.Name, \"right\")\n",
    "right_joined_df.show()"
   ]
  },
  {
   "cell_type": "code",
   "execution_count": 0,
   "metadata": {
    "application/vnd.databricks.v1+cell": {
     "cellMetadata": {},
     "inputWidgets": {},
     "nuid": "342048e5-069b-4e71-ad95-5afa48393805",
     "showTitle": false,
     "title": ""
    }
   },
   "outputs": [],
   "source": [
    "Full Outer Join "
   ]
  },
  {
   "cell_type": "code",
   "execution_count": 0,
   "metadata": {
    "application/vnd.databricks.v1+cell": {
     "cellMetadata": {
      "byteLimit": 2048000,
      "rowLimit": 10000
     },
     "inputWidgets": {},
     "nuid": "cea50eaa-0609-4045-b7eb-e51cda814243",
     "showTitle": false,
     "title": ""
    }
   },
   "outputs": [
    {
     "output_type": "stream",
     "name": "stdout",
     "output_type": "stream",
     "text": [
      "+-------+----+-----+-----------+\n|   Name| Age| Name|       City|\n+-------+----+-----+-----------+\n|  Alice|  34|Alice|   New York|\n|    Bob|  45|  Bob|Los Angeles|\n|Charlie|  25| NULL|       NULL|\n|   NULL|NULL| Dave|    Chicago|\n+-------+----+-----+-----------+\n\n"
     ]
    }
   ],
   "source": [
    "outer_joined_df = df1.join(df2, df1.Name == df2.Name, \"outer\")\n",
    "outer_joined_df.show()"
   ]
  },
  {
   "cell_type": "code",
   "execution_count": 0,
   "metadata": {
    "application/vnd.databricks.v1+cell": {
     "cellMetadata": {},
     "inputWidgets": {},
     "nuid": "adc6cebe-fdb1-4a9b-af30-bf5c43983afb",
     "showTitle": false,
     "title": ""
    }
   },
   "outputs": [],
   "source": [
    "Left Semi Join"
   ]
  },
  {
   "cell_type": "code",
   "execution_count": 0,
   "metadata": {
    "application/vnd.databricks.v1+cell": {
     "cellMetadata": {
      "byteLimit": 2048000,
      "rowLimit": 10000
     },
     "inputWidgets": {},
     "nuid": "3236ed8b-0b15-4418-b61c-c5256633285d",
     "showTitle": false,
     "title": ""
    }
   },
   "outputs": [
    {
     "output_type": "stream",
     "name": "stdout",
     "output_type": "stream",
     "text": [
      "+-----+---+\n| Name|Age|\n+-----+---+\n|Alice| 34|\n|  Bob| 45|\n+-----+---+\n\n"
     ]
    }
   ],
   "source": [
    "left_semi_joined_df = df1.join(df2, df1.Name == df2.Name, \"left_semi\")\n",
    "left_semi_joined_df.show()"
   ]
  },
  {
   "cell_type": "code",
   "execution_count": 0,
   "metadata": {
    "application/vnd.databricks.v1+cell": {
     "cellMetadata": {},
     "inputWidgets": {},
     "nuid": "20783b39-3e09-40f4-94f9-6cd5c832ef8f",
     "showTitle": false,
     "title": ""
    }
   },
   "outputs": [],
   "source": [
    "Left Anti Join"
   ]
  },
  {
   "cell_type": "code",
   "execution_count": 0,
   "metadata": {
    "application/vnd.databricks.v1+cell": {
     "cellMetadata": {
      "byteLimit": 2048000,
      "rowLimit": 10000
     },
     "inputWidgets": {},
     "nuid": "c4a618d9-8db0-4639-a809-95435a793081",
     "showTitle": false,
     "title": ""
    }
   },
   "outputs": [
    {
     "output_type": "stream",
     "name": "stdout",
     "output_type": "stream",
     "text": [
      "+-------+---+\n|   Name|Age|\n+-------+---+\n|Charlie| 25|\n+-------+---+\n\n"
     ]
    }
   ],
   "source": [
    "left_anti_joined_df = df1.join(df2, df1.Name == df2.Name, \"left_anti\")\n",
    "left_anti_joined_df.show()"
   ]
  },
  {
   "cell_type": "code",
   "execution_count": 0,
   "metadata": {
    "application/vnd.databricks.v1+cell": {
     "cellMetadata": {},
     "inputWidgets": {},
     "nuid": "ef69664a-ad4a-4e9c-9ea4-541090a6d126",
     "showTitle": false,
     "title": ""
    }
   },
   "outputs": [],
   "source": [
    "Convert the joined DataFrame to a Pandas DataFrame"
   ]
  },
  {
   "cell_type": "code",
   "execution_count": 0,
   "metadata": {
    "application/vnd.databricks.v1+cell": {
     "cellMetadata": {
      "byteLimit": 2048000,
      "rowLimit": 10000
     },
     "inputWidgets": {},
     "nuid": "28fd1463-ac48-4aed-8870-a29d31959630",
     "showTitle": false,
     "title": ""
    }
   },
   "outputs": [],
   "source": [
    "pandas_df = joined_df.toPandas()"
   ]
  },
  {
   "cell_type": "code",
   "execution_count": 0,
   "metadata": {
    "application/vnd.databricks.v1+cell": {
     "cellMetadata": {},
     "inputWidgets": {},
     "nuid": "a4c07a73-7407-48ec-9558-2d8ef6c5545d",
     "showTitle": false,
     "title": ""
    }
   },
   "outputs": [],
   "source": [
    "Apply a function on the Pandas DataFrame"
   ]
  },
  {
   "cell_type": "code",
   "execution_count": 0,
   "metadata": {
    "application/vnd.databricks.v1+cell": {
     "cellMetadata": {},
     "inputWidgets": {},
     "nuid": "a8a6253f-4c8d-4647-8260-be5c087533e8",
     "showTitle": false,
     "title": ""
    }
   },
   "outputs": [],
   "source": [
    "Convert all city names to uppercase"
   ]
  },
  {
   "cell_type": "code",
   "execution_count": 0,
   "metadata": {
    "application/vnd.databricks.v1+cell": {
     "cellMetadata": {
      "byteLimit": 2048000,
      "rowLimit": 10000
     },
     "inputWidgets": {},
     "nuid": "d50d22f0-b23d-4810-9c0c-30f3bdbd1421",
     "showTitle": false,
     "title": ""
    }
   },
   "outputs": [],
   "source": [
    "pandas_df['City'] = pandas_df['City'].apply(lambda x: x.upper())"
   ]
  },
  {
   "cell_type": "code",
   "execution_count": 0,
   "metadata": {
    "application/vnd.databricks.v1+cell": {
     "cellMetadata": {
      "byteLimit": 2048000,
      "rowLimit": 10000
     },
     "inputWidgets": {},
     "nuid": "d7cc2dc1-21e8-4a36-872d-0f1e154b9e2a",
     "showTitle": false,
     "title": ""
    }
   },
   "outputs": [
    {
     "output_type": "stream",
     "name": "stdout",
     "output_type": "stream",
     "text": [
      "Modified DataFrame:\n    Name  Age   Name         City\n0  Alice   34  Alice     NEW YORK\n1    Bob   45    Bob  LOS ANGELES\n"
     ]
    }
   ],
   "source": [
    "# Display the modified DataFrame\n",
    "print(\"Modified DataFrame:\")\n",
    "print(pandas_df)"
   ]
  },
  {
   "cell_type": "code",
   "execution_count": 0,
   "metadata": {
    "application/vnd.databricks.v1+cell": {
     "cellMetadata": {},
     "inputWidgets": {},
     "nuid": "56ae3d44-d456-4992-96e7-d7f9b06ea22d",
     "showTitle": false,
     "title": ""
    }
   },
   "outputs": [],
   "source": []
  }
 ],
 "metadata": {
  "application/vnd.databricks.v1+notebook": {
   "dashboards": [],
   "language": "python",
   "notebookMetadata": {
    "pythonIndentUnit": 4
   },
   "notebookName": "CODING CHALLENGE 03 B",
   "widgets": {}
  }
 },
 "nbformat": 4,
 "nbformat_minor": 0
}
