{
 "cells": [
  {
   "cell_type": "code",
   "execution_count": 0,
   "metadata": {
    "application/vnd.databricks.v1+cell": {
     "cellMetadata": {
      "byteLimit": 2048000,
      "rowLimit": 10000
     },
     "inputWidgets": {},
     "nuid": "5494a4b6-8879-497e-bfdb-8ef5f9028dd9",
     "showTitle": false,
     "title": ""
    }
   },
   "outputs": [
    {
     "output_type": "stream",
     "name": "stdout",
     "output_type": "stream",
     "text": [
      "+-------+------------+------+\n|   Name| Departments|Salary|\n+-------+------------+------+\n| chandu|Data Science| 10000|\n| chandu|         IOT|  5000|\n| rohith|    Big Data|  4000|\n|chandhu|    Big Data|  4000|\n| rohith|Data Science|  3000|\n|krishna|Data Science|  3000|\n|krishna|         IOT| 10000|\n|krishna|    Big Data|  5000|\n| rashmi|Data Science| 10000|\n| rashmi|    Big Data|  2000|\n+-------+------------+------+\n\n"
     ]
    }
   ],
   "source": [
    "import pyspark \n",
    "from pyspark.sql import SparkSession \n",
    "spark =SparkSession.builder.appName(\"Notebook\").getOrCreate()\n",
    "df_pyspark=spark.read.csv(\"/FileStore/tables/Coaching-1.csv\",header=True,inferSchema=True)\n",
    "df_pyspark.show()"
   ]
  },
  {
   "cell_type": "code",
   "execution_count": 0,
   "metadata": {
    "application/vnd.databricks.v1+cell": {
     "cellMetadata": {
      "byteLimit": 2048000,
      "rowLimit": 10000
     },
     "inputWidgets": {},
     "nuid": "f051631b-f3cd-4b64-996b-80373bf830d1",
     "showTitle": false,
     "title": ""
    }
   },
   "outputs": [
    {
     "output_type": "stream",
     "name": "stdout",
     "output_type": "stream",
     "text": [
      "+------------+-----------+\n| Departments|max(Salary)|\n+------------+-----------+\n|         IOT|      10000|\n|    Big Data|       5000|\n|Data Science|      10000|\n+------------+-----------+\n\n"
     ]
    }
   ],
   "source": [
    "# Max() Function\n",
    "df_pyspark.groupBy(\"Departments\").max(\"Salary\").show()"
   ]
  },
  {
   "cell_type": "code",
   "execution_count": 0,
   "metadata": {
    "application/vnd.databricks.v1+cell": {
     "cellMetadata": {
      "byteLimit": 2048000,
      "rowLimit": 10000
     },
     "inputWidgets": {},
     "nuid": "d9091ffe-9ce3-43a8-8d94-cec6cfb92cfd",
     "showTitle": false,
     "title": ""
    }
   },
   "outputs": [
    {
     "output_type": "stream",
     "name": "stdout",
     "output_type": "stream",
     "text": [
      "+------------+-----------+\n| Departments|min(Salary)|\n+------------+-----------+\n|         IOT|       5000|\n|    Big Data|       2000|\n|Data Science|       3000|\n+------------+-----------+\n\n"
     ]
    }
   ],
   "source": [
    "# Min() Function\n",
    "df_pyspark.groupBy(\"Departments\").min(\"Salary\").show()"
   ]
  },
  {
   "cell_type": "code",
   "execution_count": 0,
   "metadata": {
    "application/vnd.databricks.v1+cell": {
     "cellMetadata": {
      "byteLimit": 2048000,
      "rowLimit": 10000
     },
     "inputWidgets": {},
     "nuid": "41bce85b-611a-4a31-b447-fb47b46ea11e",
     "showTitle": false,
     "title": ""
    }
   },
   "outputs": [
    {
     "output_type": "stream",
     "name": "stdout",
     "output_type": "stream",
     "text": [
      "+------------+-----------+\n| Departments|avg(Salary)|\n+------------+-----------+\n|         IOT|     7500.0|\n|    Big Data|     3750.0|\n|Data Science|     6500.0|\n+------------+-----------+\n\n"
     ]
    }
   ],
   "source": [
    "# AVG() Function\n",
    "df_pyspark.groupBy(\"Departments\").avg(\"Salary\").show()"
   ]
  },
  {
   "cell_type": "code",
   "execution_count": 0,
   "metadata": {
    "application/vnd.databricks.v1+cell": {
     "cellMetadata": {
      "byteLimit": 2048000,
      "rowLimit": 10000
     },
     "inputWidgets": {},
     "nuid": "cbe6011e-9d03-4424-9f45-9a726afc2050",
     "showTitle": false,
     "title": ""
    }
   },
   "outputs": [
    {
     "output_type": "stream",
     "name": "stdout",
     "output_type": "stream",
     "text": [
      "+------------+-----------+\n| Departments|avg(Salary)|\n+------------+-----------+\n|         IOT|     7500.0|\n|    Big Data|     3750.0|\n|Data Science|     6500.0|\n+------------+-----------+\n\n"
     ]
    }
   ],
   "source": [
    "# MEAN() Function\n",
    "df_pyspark.groupBy(\"Departments\").mean(\"Salary\").show()"
   ]
  },
  {
   "cell_type": "code",
   "execution_count": 0,
   "metadata": {
    "application/vnd.databricks.v1+cell": {
     "cellMetadata": {
      "byteLimit": 2048000,
      "rowLimit": 10000
     },
     "inputWidgets": {},
     "nuid": "5ed2fe3d-33f9-4eaa-a0a3-5075c9a10718",
     "showTitle": false,
     "title": ""
    }
   },
   "outputs": [
    {
     "output_type": "stream",
     "name": "stdout",
     "output_type": "stream",
     "text": [
      "+------------+-----+\n| Departments|count|\n+------------+-----+\n|         IOT|    2|\n|    Big Data|    4|\n|Data Science|    4|\n+------------+-----+\n\n"
     ]
    }
   ],
   "source": [
    "# COUNT() Function\n",
    "df_pyspark.groupBy(\"Departments\").count().show()"
   ]
  },
  {
   "cell_type": "code",
   "execution_count": 0,
   "metadata": {
    "application/vnd.databricks.v1+cell": {
     "cellMetadata": {
      "byteLimit": 2048000,
      "rowLimit": 10000
     },
     "inputWidgets": {},
     "nuid": "69c8fe0f-27c7-49ff-a77f-2e1a8e315fad",
     "showTitle": false,
     "title": ""
    }
   },
   "outputs": [
    {
     "output_type": "stream",
     "name": "stdout",
     "output_type": "stream",
     "text": [
      "+------------+-----------+\n| Departments|sum(salary)|\n+------------+-----------+\n|         IOT|      15000|\n|    Big Data|      15000|\n|Data Science|      26000|\n+------------+-----------+\n\n"
     ]
    }
   ],
   "source": [
    "#GROUPBY() using multiple columns\n",
    "df_pyspark.groupBy(\"Departments\").sum(\"salary\").show()"
   ]
  },
  {
   "cell_type": "code",
   "execution_count": 0,
   "metadata": {
    "application/vnd.databricks.v1+cell": {
     "cellMetadata": {
      "byteLimit": 2048000,
      "rowLimit": 10000
     },
     "inputWidgets": {},
     "nuid": "8176494d-90fe-4927-bd0a-827860bb520b",
     "showTitle": false,
     "title": ""
    }
   },
   "outputs": [
    {
     "output_type": "stream",
     "name": "stdout",
     "output_type": "stream",
     "text": [
      "+------------+-------+------+-------+------+------+\n| Departments|chandhu|chandu|krishna|rashmi|rohith|\n+------------+-------+------+-------+------+------+\n|         IOT|   NULL|  5000|  10000|  NULL|  NULL|\n|    Big Data|   4000|  NULL|   5000|  2000|  4000|\n|Data Science|   NULL| 10000|   3000| 10000|  3000|\n+------------+-------+------+-------+------+------+\n\n"
     ]
    }
   ],
   "source": [
    "# Pivot \n",
    "df_pyspark.groupBy(\"Departments\").pivot(\"Name\").sum(\"salary\").show()"
   ]
  },
  {
   "cell_type": "code",
   "execution_count": 0,
   "metadata": {
    "application/vnd.databricks.v1+cell": {
     "cellMetadata": {
      "byteLimit": 2048000,
      "rowLimit": 10000
     },
     "inputWidgets": {},
     "nuid": "b9d90ffb-a5f8-4a6c-90d7-0c63b8c3424a",
     "showTitle": false,
     "title": ""
    }
   },
   "outputs": [
    {
     "output_type": "stream",
     "name": "stdout",
     "output_type": "stream",
     "text": [
      "+------------+-----------+\n| Departments|sum(salary)|\n+------------+-----------+\n|         IOT|      15000|\n|    Big Data|      15000|\n|Data Science|      26000|\n+------------+-----------+\n\n"
     ]
    }
   ],
   "source": [
    "# groupBy() and agg() function\n",
    "df_pyspark.groupBy(\"Departments\").agg(({\"salary\":\"sum\"})).show()"
   ]
  }
 ],
 "metadata": {
  "application/vnd.databricks.v1+notebook": {
   "dashboards": [],
   "language": "python",
   "notebookMetadata": {
    "pythonIndentUnit": 4
   },
   "notebookName": "Practise-1 for Aggregate Functions",
   "widgets": {}
  }
 },
 "nbformat": 4,
 "nbformat_minor": 0
}
