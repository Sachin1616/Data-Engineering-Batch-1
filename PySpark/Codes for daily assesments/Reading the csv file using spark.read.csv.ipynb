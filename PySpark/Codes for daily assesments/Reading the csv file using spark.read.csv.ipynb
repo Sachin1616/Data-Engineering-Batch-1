{
 "cells": [
  {
   "cell_type": "code",
   "execution_count": 0,
   "metadata": {
    "application/vnd.databricks.v1+cell": {
     "cellMetadata": {
      "byteLimit": 2048000,
      "rowLimit": 10000
     },
     "inputWidgets": {},
     "nuid": "01c7612e-b9b9-4c13-94c6-2dde187c2702",
     "showTitle": false,
     "title": ""
    }
   },
   "outputs": [
    {
     "output_type": "stream",
     "name": "stdout",
     "output_type": "stream",
     "text": [
      "+----+---+----------+\n| _c0|_c1|       _c2|\n+----+---+----------+\n|Name|Age|Occupation|\n|John| 25|  Engineer|\n|Jane| 30|    Doctor|\n| Bob| 22|   Student|\n+----+---+----------+\n\n"
     ]
    }
   ],
   "source": [
    "import pyspark\n",
    "from pyspark.sql import SparkSession\n",
    "spark = SparkSession.builder.appName(\"practice\").getOrCreate()\n",
    " \n",
    "spark\n",
    "df=spark.read.csv(\"/FileStore/tables/Profile.csv\")\n",
    "df\n",
    "df.show()"
   ]
  },
  {
   "cell_type": "code",
   "execution_count": 0,
   "metadata": {
    "application/vnd.databricks.v1+cell": {
     "cellMetadata": {},
     "inputWidgets": {},
     "nuid": "b8e4e0a7-c706-49ca-b4c7-59a0ebe3b319",
     "showTitle": false,
     "title": ""
    }
   },
   "outputs": [],
   "source": []
  }
 ],
 "metadata": {
  "application/vnd.databricks.v1+notebook": {
   "dashboards": [],
   "language": "python",
   "notebookMetadata": {
    "pythonIndentUnit": 4
   },
   "notebookName": "Reading the csv file using spark.read.csv",
   "widgets": {}
  }
 },
 "nbformat": 4,
 "nbformat_minor": 0
}
