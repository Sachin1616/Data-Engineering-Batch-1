{
 "cells": [
  {
   "cell_type": "code",
   "execution_count": 0,
   "metadata": {
    "application/vnd.databricks.v1+cell": {
     "cellMetadata": {
      "byteLimit": 2048000,
      "rowLimit": 10000
     },
     "inputWidgets": {},
     "nuid": "0af9a200-1349-4cae-af9c-39f0f265b2f0",
     "showTitle": false,
     "title": ""
    }
   },
   "outputs": [
    {
     "output_type": "stream",
     "name": "stdout",
     "output_type": "stream",
     "text": [
      "+-------+------------+------+\n|   Name| Departments|Salary|\n+-------+------------+------+\n| chandu|Data Science| 10000|\n| chandu|         IOT|  5000|\n| rohith|    Big Data|  4000|\n|chandhu|    Big Data|  4000|\n| rohith|Data Science|  3000|\n|krishna|Data Science|  3000|\n|krishna|         IOT| 10000|\n|krishna|    Big Data|  5000|\n| rashmi|Data Science| 10000|\n| rashmi|    Big Data|  2000|\n+-------+------------+------+\n\n"
     ]
    }
   ],
   "source": [
    "df = spark.read.csv(\"/FileStore/tables/Coaching_1.csv\",header=True)\n",
    "df.show()"
   ]
  },
  {
   "cell_type": "code",
   "execution_count": 0,
   "metadata": {
    "application/vnd.databricks.v1+cell": {
     "cellMetadata": {
      "byteLimit": 2048000,
      "rowLimit": 10000
     },
     "inputWidgets": {},
     "nuid": "53d37fad-7646-4bf6-8a4e-3068cbbdb2b8",
     "showTitle": false,
     "title": ""
    }
   },
   "outputs": [
    {
     "output_type": "stream",
     "name": "stdout",
     "output_type": "stream",
     "text": [
      "root\n |-- Name: string (nullable = true)\n |-- Departments: string (nullable = true)\n |-- Salary: string (nullable = true)\n\n"
     ]
    }
   ],
   "source": [
    "df.printSchema()"
   ]
  },
  {
   "cell_type": "code",
   "execution_count": 0,
   "metadata": {
    "application/vnd.databricks.v1+cell": {
     "cellMetadata": {
      "byteLimit": 2048000,
      "rowLimit": 10000
     },
     "inputWidgets": {},
     "nuid": "6e7d9b09-a2da-49d8-8c7e-81be4644e0a8",
     "showTitle": false,
     "title": ""
    }
   },
   "outputs": [
    {
     "output_type": "stream",
     "name": "stdout",
     "output_type": "stream",
     "text": [
      "+-------+\n|   Name|\n+-------+\n| chandu|\n| chandu|\n| rohith|\n|chandhu|\n| rohith|\n|krishna|\n|krishna|\n|krishna|\n| rashmi|\n| rashmi|\n+-------+\n\n"
     ]
    }
   ],
   "source": [
    "df.select(\"Name\").show()"
   ]
  },
  {
   "cell_type": "code",
   "execution_count": 0,
   "metadata": {
    "application/vnd.databricks.v1+cell": {
     "cellMetadata": {
      "byteLimit": 2048000,
      "rowLimit": 10000
     },
     "inputWidgets": {},
     "nuid": "ac9889db-e70e-40fc-9d8f-bdca9482739e",
     "showTitle": false,
     "title": ""
    }
   },
   "outputs": [
    {
     "output_type": "stream",
     "name": "stdout",
     "output_type": "stream",
     "text": [
      "+-------+------------+------+\n|   Name| Departments|Salary|\n+-------+------------+------+\n| chandu|Data Science| 10000|\n| chandu|         IOT|  5000|\n| rohith|    Big Data|  4000|\n|chandhu|    Big Data|  4000|\n| rohith|Data Science|  3000|\n|krishna|Data Science|  3000|\n|krishna|         IOT| 10000|\n|krishna|    Big Data|  5000|\n| rashmi|Data Science| 10000|\n| rashmi|    Big Data|  2000|\n+-------+------------+------+\n\n"
     ]
    }
   ],
   "source": [
    "df.createOrReplaceTempView(\"people\")\n",
    "sqlDF = spark.sql(\"SELECT * FROM people\")\n",
    "sqlDF.show()"
   ]
  },
  {
   "cell_type": "code",
   "execution_count": 0,
   "metadata": {
    "application/vnd.databricks.v1+cell": {
     "cellMetadata": {},
     "inputWidgets": {},
     "nuid": "d3c309b1-e698-4b79-b9c7-4495261ac530",
     "showTitle": false,
     "title": ""
    }
   },
   "outputs": [],
   "source": []
  }
 ],
 "metadata": {
  "application/vnd.databricks.v1+notebook": {
   "dashboards": [],
   "language": "python",
   "notebookMetadata": {
    "pythonIndentUnit": 4
   },
   "notebookName": "Untitled Notebook 2024-02-13 10:17:06",
   "widgets": {}
  }
 },
 "nbformat": 4,
 "nbformat_minor": 0
}
