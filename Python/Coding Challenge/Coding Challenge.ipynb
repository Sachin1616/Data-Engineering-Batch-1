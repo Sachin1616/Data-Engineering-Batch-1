{
 "cells": [
  {
   "cell_type": "code",
   "execution_count": 2,
   "id": "932efe34-0907-4e09-b1ce-763dddb44e25",
   "metadata": {},
   "outputs": [
    {
     "name": "stdout",
     "output_type": "stream",
     "text": [
      "    Name  Age           City\n",
      "0   John   25       New York\n",
      "1  Alice   30  San Francisco\n",
      "2    Bob   22    Los Angeles\n"
     ]
    }
   ],
   "source": [
    "import pandas as pd\n",
    "\n",
    "# Creating a DataFrame\n",
    "data = {'Name': ['John', 'Alice', 'Bob'],\n",
    "        'Age': [25, 30, 22],\n",
    "        'City': ['New York', 'San Francisco', 'Los Angeles']}\n",
    "\n",
    "df = pd.DataFrame(data)\n",
    "\n",
    "# Displaying the DataFrame in the terminal\n",
    "print(df)"
   ]
  },
  {
   "cell_type": "code",
   "execution_count": null,
   "id": "7e1e66e8-46d4-4645-a6bc-42bd6aa2103c",
   "metadata": {},
   "outputs": [],
   "source": [
    "# Execute Reading CSV Data using Pandas"
   ]
  },
  {
   "cell_type": "code",
   "execution_count": 3,
   "id": "16b07280-9d53-428e-bbae-f9fccb5b1474",
   "metadata": {},
   "outputs": [
    {
     "name": "stdout",
     "output_type": "stream",
     "text": [
      "      Name  Age       City\n",
      "0   Sachin   22  Bangalore\n",
      "1  Chaithu   21      Vizag\n",
      "2   Jeevan   22      Vizag\n",
      "3    Akash   21      Vizag\n"
     ]
    }
   ],
   "source": [
    "import pandas as pd\n",
    "\n",
    "# Assuming you have a CSV file named 'example.csv' in the current directory\n",
    "file_path = 'Coding_sample.csv'\n",
    "\n",
    "# Reading CSV data into a Pandas DataFrame\n",
    "df = pd.read_csv(file_path)\n",
    "\n",
    "# Display the first few rows of the DataFrame\n",
    "print(df.head())"
   ]
  },
  {
   "cell_type": "code",
   "execution_count": null,
   "id": "419563e8-4f1e-4cbb-8997-6bdeb3a92a3e",
   "metadata": {},
   "outputs": [],
   "source": [
    "# Read Data from CSV Files to Pandas Dataframes"
   ]
  },
  {
   "cell_type": "code",
   "execution_count": 5,
   "id": "433cf35c-0940-4487-b7da-eeb8a49b10bf",
   "metadata": {},
   "outputs": [
    {
     "name": "stdout",
     "output_type": "stream",
     "text": [
      "   Student Grade Section\n",
      "0  Chaithu     A       B\n",
      "1   Jeevan     A       C\n",
      "2   Sachin     A       A\n",
      "3    Akash     A       D\n"
     ]
    }
   ],
   "source": [
    "import pandas as pd\n",
    "\n",
    "# Specify the file path\n",
    "file_path = \"Coding_sample2.csv\"\n",
    "\n",
    "# Read CSV file into a Pandas DataFrame\n",
    "df = pd.read_csv(file_path)\n",
    "\n",
    "# Display the DataFrame\n",
    "print(df)\n"
   ]
  },
  {
   "cell_type": "code",
   "execution_count": null,
   "id": "e68b7635-767a-4796-9b2a-27aa80efd8b7",
   "metadata": {},
   "outputs": [],
   "source": [
    "# Filter Data in Pandas Dataframe using query."
   ]
  },
  {
   "cell_type": "code",
   "execution_count": 6,
   "id": "7cb41d39-d410-4d89-b01e-04aa17d27505",
   "metadata": {},
   "outputs": [
    {
     "name": "stdout",
     "output_type": "stream",
     "text": [
      "         Name  Age  Salary\n",
      "1       Surya   30   60000\n",
      "3  Raghuvaren   35   70000\n"
     ]
    }
   ],
   "source": [
    "import pandas as pd\n",
    "\n",
    "# Creating a sample DataFrame\n",
    "data = {'Name': ['Ajay', 'Surya', 'Vijay', 'Raghuvaren'],\n",
    "        'Age': [25, 30, 22, 35],\n",
    "        'Salary': [50000, 60000, 45000, 70000]}\n",
    "\n",
    "df = pd.DataFrame(data)\n",
    "\n",
    "# Using query to filter data\n",
    "filtered_df = df.query('Age > 25 and Salary > 50000')\n",
    "\n",
    "print(filtered_df)\n"
   ]
  },
  {
   "cell_type": "code",
   "execution_count": null,
   "id": "afdb8532-0754-4a7e-bc9e-90f2ce24fd5c",
   "metadata": {},
   "outputs": [],
   "source": [
    "# Execute with one example Lambda Functions in Python"
   ]
  },
  {
   "cell_type": "code",
   "execution_count": 7,
   "id": "f198edf3-1eb5-4685-a1ec-374190169593",
   "metadata": {},
   "outputs": [
    {
     "name": "stdout",
     "output_type": "stream",
     "text": [
      "Result using regular function: 8\n",
      "Result using lambda function: 8\n"
     ]
    }
   ],
   "source": [
    "# Regular function to add two numbers\n",
    "def add(x, y):\n",
    "    return x + y\n",
    "\n",
    "# Equivalent lambda function\n",
    "lambda_add = lambda x, y: x + y\n",
    "\n",
    "# Using the regular function\n",
    "result_regular = add(3, 5)\n",
    "print(\"Result using regular function:\", result_regular)\n",
    "\n",
    "# Using the lambda function\n",
    "result_lambda = lambda_add(3, 5)\n",
    "print(\"Result using lambda function:\", result_lambda)"
   ]
  },
  {
   "cell_type": "code",
   "execution_count": null,
   "id": "9a4b83c8-5a06-4ed0-8ad1-f9cbb93ad43c",
   "metadata": {},
   "outputs": [],
   "source": [
    "# Read JSON Strings to Python dicts or lists"
   ]
  },
  {
   "cell_type": "code",
   "execution_count": null,
   "id": "76f6b4de-e2ac-4a1a-aed0-4b85e039a220",
   "metadata": {},
   "outputs": [],
   "source": [
    "# Read JSON Strings to Python Dictionary"
   ]
  },
  {
   "cell_type": "code",
   "execution_count": 8,
   "id": "38c63018-b367-473e-bfea-6d49ff249b27",
   "metadata": {},
   "outputs": [
    {
     "name": "stdout",
     "output_type": "stream",
     "text": [
      "Name: Sachin\n",
      "Age: 22\n",
      "City: Bangalore\n"
     ]
    }
   ],
   "source": [
    "import json\n",
    "\n",
    "# JSON string example\n",
    "x = '{\"name\": \"Sachin\", \"age\": 22, \"city\": \"Bangalore\"}'\n",
    "\n",
    "# Convert JSON string to Python dictionary\n",
    "python_dict = json.loads(x)\n",
    "\n",
    "# Accessing values in the dictionary\n",
    "print(\"Name:\", python_dict[\"name\"])\n",
    "print(\"Age:\", python_dict[\"age\"])\n",
    "print(\"City:\", python_dict[\"city\"])"
   ]
  },
  {
   "cell_type": "code",
   "execution_count": null,
   "id": "963acc35-92bb-455a-8492-32ca7eeb77ca",
   "metadata": {},
   "outputs": [],
   "source": [
    "# Read JSON Strings to Python list"
   ]
  },
  {
   "cell_type": "code",
   "execution_count": 9,
   "id": "25343fed-a877-4f47-9289-d27858d82c3d",
   "metadata": {},
   "outputs": [
    {
     "name": "stdout",
     "output_type": "stream",
     "text": [
      "1\n",
      "2\n",
      "3\n",
      "4\n",
      "5\n"
     ]
    }
   ],
   "source": [
    "import json\n",
    "\n",
    "# JSON list string example\n",
    "json_list_string = '[1, 2, 3, 4, 5]'\n",
    "\n",
    "# Convert JSON list string to Python list\n",
    "python_list = json.loads(json_list_string)\n",
    "\n",
    "# Accessing values in the list\n",
    "for item in python_list:\n",
    "    print(item)"
   ]
  },
  {
   "cell_type": "code",
   "execution_count": null,
   "id": "b1c73b05-674f-4464-a711-6cb85a4d0ff6",
   "metadata": {},
   "outputs": [],
   "source": []
  }
 ],
 "metadata": {
  "kernelspec": {
   "display_name": "Python 3 (ipykernel)",
   "language": "python",
   "name": "python3"
  },
  "language_info": {
   "codemirror_mode": {
    "name": "ipython",
    "version": 3
   },
   "file_extension": ".py",
   "mimetype": "text/x-python",
   "name": "python",
   "nbconvert_exporter": "python",
   "pygments_lexer": "ipython3",
   "version": "3.11.2"
  }
 },
 "nbformat": 4,
 "nbformat_minor": 5
}
