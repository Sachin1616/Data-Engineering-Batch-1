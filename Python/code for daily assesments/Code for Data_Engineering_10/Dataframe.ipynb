{
 "cells": [
  {
   "cell_type": "code",
   "execution_count": null,
   "id": "8a457094-f500-410b-85e4-69ce1c6f9c9c",
   "metadata": {},
   "outputs": [],
   "source": [
    "# This line imports the Pandas library and assigns it the alias 'pd'. This alias is a common convention in the data science community.\n",
    "# Here, a Python dictionary data is defined,\n",
    "# where keys represent column names ('Name', 'Age', 'City'), and values are lists containing data for each column.\n",
    "# The pd.DataFrame(data) creates a Pandas DataFrame from this dictionary."
   ]
  },
  {
   "cell_type": "code",
   "execution_count": null,
   "id": "f47c0386-1c4c-4c1f-bde7-4143f1d86b79",
   "metadata": {},
   "outputs": [],
   "source": [
    "# dataframe"
   ]
  },
  {
   "cell_type": "code",
   "execution_count": 1,
   "id": "40133720-24d7-46fb-baac-81cb322a3be2",
   "metadata": {},
   "outputs": [
    {
     "name": "stdout",
     "output_type": "stream",
     "text": [
      "      Name  Age           City\n",
      "0    Alice   25       New York\n",
      "1      Bob   30  San Francisco\n",
      "2  Charlie   35    Los Angeles\n"
     ]
    },
    {
     "name": "stderr",
     "output_type": "stream",
     "text": [
      "C:\\Users\\Dell\\AppData\\Local\\Temp\\ipykernel_26540\\2045695454.py:1: DeprecationWarning: \n",
      "Pyarrow will become a required dependency of pandas in the next major release of pandas (pandas 3.0),\n",
      "(to allow more performant data types, such as the Arrow string type, and better interoperability with other libraries)\n",
      "but was not found to be installed on your system.\n",
      "If this would cause problems for you,\n",
      "please provide us feedback at https://github.com/pandas-dev/pandas/issues/54466\n",
      "        \n",
      "  import pandas as pd\n"
     ]
    }
   ],
   "source": [
    "import pandas as pd\n",
    "\n",
    "# Creating a DataFrame\n",
    "data = {'Name': ['Alice', 'Bob', 'Charlie'],\n",
    "        'Age': [25, 30, 35],\n",
    "        'City': ['New York', 'San Francisco', 'Los Angeles']}\n",
    "\n",
    "df = pd.DataFrame(data)\n",
    "\n",
    "# Displaying the DataFrame\n",
    "print(df)\n"
   ]
  },
  {
   "cell_type": "code",
   "execution_count": null,
   "id": "0d305580-cb4d-43a6-adb2-b57e58a51b27",
   "metadata": {},
   "outputs": [],
   "source": [
    "# Reading CSV data using using pandas"
   ]
  },
  {
   "cell_type": "code",
   "execution_count": 2,
   "id": "a78f7557-4e98-435c-92d6-5648a150ad47",
   "metadata": {},
   "outputs": [
    {
     "name": "stdout",
     "output_type": "stream",
     "text": [
      "      Name  Age           City\n",
      "0    Alice   25       New York\n",
      "1      Bob   30  San Francisco\n",
      "2  Charlie   35    Los Angeles\n"
     ]
    }
   ],
   "source": [
    "import pandas as pd\n",
    "\n",
    "# Specify the path to your CSV file\n",
    "csv_file_path = 'details.csv'\n",
    "\n",
    "# Read CSV file into a DataFrame\n",
    "df = pd.read_csv(csv_file_path)\n",
    "\n",
    "# Display the DataFrame\n",
    "print(df)\n"
   ]
  },
  {
   "cell_type": "code",
   "execution_count": null,
   "id": "749e0812-dd05-4dac-8c9d-c5bd0a92c677",
   "metadata": {},
   "outputs": [],
   "source": [
    "#"
   ]
  },
  {
   "cell_type": "code",
   "execution_count": 3,
   "id": "70197711-e123-448e-a8c0-7578c5203df5",
   "metadata": {},
   "outputs": [
    {
     "name": "stdout",
     "output_type": "stream",
     "text": [
      "      Name  Class Grade\n",
      "0   Sachin     12     A\n",
      "1  Chaithu     12     A\n",
      "2   Jeevan     12     A\n",
      "3    Akash     12     A\n"
     ]
    }
   ],
   "source": [
    "import pandas as pd\n",
    "\n",
    "# Specify the path to your CSV file\n",
    "csv_file_path = 'grade.csv'\n",
    "\n",
    "# Read CSV file into a DataFrame\n",
    "df = pd.read_csv(csv_file_path)\n",
    "\n",
    "# Display the DataFrame\n",
    "print(df)\n"
   ]
  },
  {
   "cell_type": "code",
   "execution_count": null,
   "id": "5633699d-082d-43d0-80e0-8d71b25e5d2b",
   "metadata": {},
   "outputs": [],
   "source": [
    "# Filter Data in Pandas Dataframe using query"
   ]
  },
  {
   "cell_type": "code",
   "execution_count": 4,
   "id": "9faaec44-2158-4ddd-8e86-2a4d32d5e29e",
   "metadata": {},
   "outputs": [
    {
     "name": "stdout",
     "output_type": "stream",
     "text": [
      "Original DataFrame:\n",
      "   Product  Price  Stock Brand\n",
      "0   Laptop   1200     50     A\n",
      "1    Phone    800    100     B\n",
      "2   Tablet    400     20     A\n",
      "3  Desktop   1500     30     C\n",
      "\n",
      "Filtered DataFrame:\n",
      "   Product  Price  Stock Brand\n",
      "3  Desktop   1500     30     C\n"
     ]
    }
   ],
   "source": [
    "import pandas as pd\n",
    "\n",
    "# Create a new sample DataFrame\n",
    "data = {'Product': ['Laptop', 'Phone', 'Tablet', 'Desktop'],\n",
    "        'Price': [1200, 800, 400, 1500],\n",
    "        'Stock': [50, 100, 20, 30],\n",
    "        'Brand': ['A', 'B', 'A', 'C']}\n",
    "\n",
    "df = pd.DataFrame(data)\n",
    "\n",
    "# Display the original DataFrame\n",
    "print(\"Original DataFrame:\")\n",
    "print(df)\n",
    "print()\n",
    "\n",
    "# Use query to filter rows where Price is greater than 1000 and Stock is less than 50\n",
    "result = df.query('Price > 1000 & Stock < 50')\n",
    "\n",
    "print(\"Filtered DataFrame:\")\n",
    "print(result)\n"
   ]
  },
  {
   "cell_type": "code",
   "execution_count": null,
   "id": "373e1521-8a0a-4b72-8db1-310e0c5ed0f0",
   "metadata": {},
   "outputs": [],
   "source": [
    "# Get Count by Status using Pandas Dataframe APIs"
   ]
  },
  {
   "cell_type": "code",
   "execution_count": 5,
   "id": "2519b7f7-63c9-45f1-824d-47fa9a924007",
   "metadata": {},
   "outputs": [
    {
     "name": "stdout",
     "output_type": "stream",
     "text": [
      "     status  count\n",
      "0    Active      3\n",
      "1  Inactive      2\n"
     ]
    }
   ],
   "source": [
    "import pandas as pd\n",
    "\n",
    "# Sample DataFrame creation for illustration\n",
    "data = {'id': [1, 2, 3, 4, 5],\n",
    "        'status': ['Active', 'Inactive', 'Active', 'Inactive', 'Active']}\n",
    "df = pd.DataFrame(data)\n",
    "\n",
    "# Group by 'status' and count the occurrences\n",
    "status_counts = df.groupby('status').size().reset_index(name='count')\n",
    "\n",
    "# Print the result\n",
    "print(status_counts)\n"
   ]
  },
  {
   "cell_type": "code",
   "execution_count": null,
   "id": "4c8ae5fb-2105-4024-92b8-5c4945e50b07",
   "metadata": {},
   "outputs": [],
   "source": [
    "# Get count by Month and Status using Pandas Dataframe APIs"
   ]
  },
  {
   "cell_type": "code",
   "execution_count": 6,
   "id": "9a5eefe4-c865-452b-9950-28607353ea72",
   "metadata": {},
   "outputs": [
    {
     "name": "stdout",
     "output_type": "stream",
     "text": [
      "Status    Month  Closed  Open\n",
      "0       2023-01     1.0   1.0\n",
      "1       2023-02     1.0   2.0\n"
     ]
    }
   ],
   "source": [
    "import pandas as pd\n",
    "\n",
    "# Sample data\n",
    "data = {\n",
    "    'Date': ['2023-01-01', '2023-01-01', '2023-02-01', '2023-02-01', '2023-02-01'],\n",
    "    'Status': ['Open', 'Closed', 'Open', 'Closed', 'Open']\n",
    "}\n",
    "\n",
    "# Create a DataFrame\n",
    "df = pd.DataFrame(data)\n",
    "\n",
    "# Convert 'Date' column to datetime\n",
    "df['Date'] = pd.to_datetime(df['Date'])\n",
    "\n",
    "# Extract Month and Year from 'Date' column\n",
    "df['Month'] = df['Date'].dt.to_period('M')\n",
    "\n",
    "# Use groupby and pivot_table to get count by Month and Status\n",
    "result = df.groupby(['Month', 'Status']).size().reset_index(name='Count')\n",
    "\n",
    "# Pivot the table to have Status as columns\n",
    "result_pivot = result.pivot_table(index='Month', columns='Status', values='Count', fill_value=0)\n",
    "\n",
    "# If you want to reset the index\n",
    "result_pivot.reset_index(inplace=True)\n",
    "\n",
    "print(result_pivot)\n"
   ]
  },
  {
   "cell_type": "code",
   "execution_count": null,
   "id": "58b41929-aecf-4883-ab65-616f8e6db170",
   "metadata": {},
   "outputs": [],
   "source": [
    "# Create Dataframes using dynamic column list on CSV Data"
   ]
  },
  {
   "cell_type": "code",
   "execution_count": 9,
   "id": "c4cf7b60-133c-492c-9925-68468272aad1",
   "metadata": {},
   "outputs": [
    {
     "name": "stdout",
     "output_type": "stream",
     "text": [
      "Original DataFrame Columns: Index(['column1', 'column2', 'column3', 'column4', 'column5'], dtype='object')\n",
      "   column1  column2 column3\n",
      "0        1       11       a\n",
      "1        2       12       b\n",
      "2        3       13       c\n",
      "3        4       14       d\n",
      "4        5       15       e\n"
     ]
    }
   ],
   "source": [
    "import pandas as pd\n",
    "\n",
    "# Load your CSV data into a DataFrame\n",
    "csv_file_path = 'Sample.csv'\n",
    "original_df = pd.read_csv(csv_file_path)\n",
    "\n",
    "# Print original DataFrame columns\n",
    "print(\"Original DataFrame Columns:\", original_df.columns)\n",
    "\n",
    "# Define a dynamic column list \n",
    "dynamic_column_list = ['column1', 'column2', 'column3']\n",
    "\n",
    "# Create a new DataFrame with the selected columns\n",
    "new_df = original_df[dynamic_column_list]\n",
    "\n",
    "# Display the new DataFrame\n",
    "print(new_df)\n"
   ]
  },
  {
   "cell_type": "code",
   "execution_count": null,
   "id": "18fd9688-2320-4604-a224-4e9a44acf6f7",
   "metadata": {},
   "outputs": [],
   "source": [
    "# Performing Inner Join between Pandas Dataframes"
   ]
  },
  {
   "cell_type": "code",
   "execution_count": 10,
   "id": "fccc3106-64f7-4448-b060-1103e21e510c",
   "metadata": {},
   "outputs": [
    {
     "name": "stdout",
     "output_type": "stream",
     "text": [
      "   ID     Name  Age\n",
      "0   2      Bob   25\n",
      "1   3  Charlie   30\n",
      "2   4    David   35\n"
     ]
    }
   ],
   "source": [
    "import pandas as pd\n",
    "\n",
    "# Creating two sample DataFrames\n",
    "df1 = pd.DataFrame({'ID': [1, 2, 3, 4],\n",
    "                    'Name': ['Alice', 'Bob', 'Charlie', 'David']})\n",
    "\n",
    "df2 = pd.DataFrame({'ID': [2, 3, 4, 5],\n",
    "                    'Age': [25, 30, 35, 40]})\n",
    "\n",
    "# Performing an inner join based on the 'ID' column\n",
    "result_df = pd.merge(df1, df2, on='ID', how='inner')\n",
    "\n",
    "print(result_df)"
   ]
  },
  {
   "cell_type": "code",
   "execution_count": null,
   "id": "6b7fb9fd-515c-4b88-b8a2-853d89e28cfc",
   "metadata": {},
   "outputs": [],
   "source": [
    "# Perform Aggregations on Join results in pandas"
   ]
  },
  {
   "cell_type": "code",
   "execution_count": 11,
   "id": "fa9befb6-1719-4ac7-a9b3-75385ac73539",
   "metadata": {},
   "outputs": [
    {
     "name": "stdout",
     "output_type": "stream",
     "text": [
      "  key  value1  value2\n",
      "0   A      10    25.0\n",
      "1   B      14    35.0\n",
      "2   C      18    45.0\n"
     ]
    }
   ],
   "source": [
    "import pandas as pd\n",
    "\n",
    "# Sample DataFrames\n",
    "df1 = pd.DataFrame({\n",
    "    'key': ['A', 'B', 'C', 'A', 'B', 'C'],\n",
    "    'value1': [1, 2, 3, 4, 5, 6]\n",
    "})\n",
    "\n",
    "df2 = pd.DataFrame({\n",
    "    'key': ['A', 'B', 'C', 'A', 'B', 'C'],\n",
    "    'value2': [10, 20, 30, 40, 50, 60]\n",
    "})\n",
    "\n",
    "# Merge DataFrames on the 'key' column\n",
    "merged_df = pd.merge(df1, df2, on='key')\n",
    "\n",
    "# Group by 'key' and perform aggregations on the joined data\n",
    "agg_result = merged_df.groupby('key').agg({\n",
    "    'value1': 'sum',\n",
    "    'value2': 'mean'\n",
    "}).reset_index()\n",
    "\n",
    "print(agg_result)"
   ]
  },
  {
   "cell_type": "code",
   "execution_count": null,
   "id": "ce333cec-bb1c-4766-8907-135d6a5d0dae",
   "metadata": {},
   "outputs": [],
   "source": [
    "# Sort Data in Pandas Dataframes"
   ]
  },
  {
   "cell_type": "code",
   "execution_count": 12,
   "id": "53f5b960-3e2c-4982-8c40-986c535ce04a",
   "metadata": {},
   "outputs": [
    {
     "name": "stdout",
     "output_type": "stream",
     "text": [
      "Sorted by Age:\n",
      "       Name  Age  Salary\n",
      "2  Charlie   22   45000\n",
      "0    Alice   25   50000\n",
      "1      Bob   30   60000\n",
      "3    David   35   70000\n",
      "\n",
      "Sorted by Age and Salary:\n",
      "       Name  Age  Salary\n",
      "2  Charlie   22   45000\n",
      "0    Alice   25   50000\n",
      "1      Bob   30   60000\n",
      "3    David   35   70000\n",
      "\n",
      "Sorted by Age (descending):\n",
      "       Name  Age  Salary\n",
      "3    David   35   70000\n",
      "1      Bob   30   60000\n",
      "0    Alice   25   50000\n",
      "2  Charlie   22   45000\n",
      "\n",
      "DataFrame sorted in-place by Age:\n",
      "       Name  Age  Salary\n",
      "2  Charlie   22   45000\n",
      "0    Alice   25   50000\n",
      "1      Bob   30   60000\n",
      "3    David   35   70000\n"
     ]
    }
   ],
   "source": [
    "import pandas as pd\n",
    "\n",
    "# Create a sample DataFrame\n",
    "data = {'Name': ['Alice', 'Bob', 'Charlie', 'David'],\n",
    "        'Age': [25, 30, 22, 35],\n",
    "        'Salary': [50000, 60000, 45000, 70000]}\n",
    "\n",
    "df = pd.DataFrame(data)\n",
    "\n",
    "# Sorting by a single column, for example, 'Age'\n",
    "df_sorted_by_age = df.sort_values(by='Age')\n",
    "print(\"Sorted by Age:\\n\", df_sorted_by_age)\n",
    "\n",
    "# Sorting by multiple columns, for example, 'Age' and then 'Salary'\n",
    "df_sorted_by_multiple_columns = df.sort_values(by=['Age', 'Salary'])\n",
    "print(\"\\nSorted by Age and Salary:\\n\", df_sorted_by_multiple_columns)\n",
    "\n",
    "# Sorting in descending order by 'Age'\n",
    "df_sorted_descending = df.sort_values(by='Age', ascending=False)\n",
    "print(\"\\nSorted by Age (descending):\\n\", df_sorted_descending)\n",
    "\n",
    "# Sorting 'df' in-place by 'Age'\n",
    "df.sort_values(by='Age', inplace=True)\n",
    "print(\"\\nDataFrame sorted in-place by Age:\\n\", df)"
   ]
  },
  {
   "cell_type": "code",
   "execution_count": null,
   "id": "57c7f2ac-8aa5-45b4-ac97-5bc350ffcc8f",
   "metadata": {},
   "outputs": [],
   "source": [
    "# Writing Pandas Dataframes to Files"
   ]
  },
  {
   "cell_type": "code",
   "execution_count": 15,
   "id": "3345d952-f0a7-4dd0-8dbc-839efe74f66d",
   "metadata": {},
   "outputs": [
    {
     "name": "stdout",
     "output_type": "stream",
     "text": [
      "CSV file written successfully.\n",
      "JSON file written successfully.\n"
     ]
    }
   ],
   "source": [
    "import pandas as pd\n",
    "\n",
    "# Sample DataFrame\n",
    "data = {'Name': ['John', 'Alice', 'Bob'],\n",
    "        'Age': [28, 24, 22],\n",
    "        'City': ['New York', 'San Francisco', 'Seattle']}\n",
    "df = pd.DataFrame(data)\n",
    "\n",
    "# Write to CSV\n",
    "df.to_csv('output.csv', index=False)\n",
    "print(\"CSV file written successfully.\")\n",
    "\n",
    "# Write to JSON\n",
    "df.to_json('output.json', orient='records')\n",
    "print(\"JSON file written successfully.\")"
   ]
  },
  {
   "cell_type": "code",
   "execution_count": null,
   "id": "967659e0-25dc-4971-9b9c-5ed9c93ac517",
   "metadata": {},
   "outputs": [],
   "source": [
    "# Write Pandas Dataframes to JSON Files"
   ]
  },
  {
   "cell_type": "code",
   "execution_count": 16,
   "id": "ee5a35d8-097e-4e36-94ec-9d71fd5d3f5b",
   "metadata": {},
   "outputs": [
    {
     "name": "stdout",
     "output_type": "stream",
     "text": [
      "DataFrame has been written to output.json\n"
     ]
    }
   ],
   "source": [
    "import pandas as pd\n",
    "\n",
    "# Creating a sample DataFrame\n",
    "data = {'Name': ['Alice', 'Bob', 'Charlie'],\n",
    "        'Age': [25, 30, 35],\n",
    "        'City': ['New York', 'San Francisco', 'Los Angeles']}\n",
    "df = pd.DataFrame(data)\n",
    "\n",
    "# Specify the file path where you want to save the JSON file\n",
    "json_file_path = 'output.json'\n",
    "\n",
    "# Writing DataFrame to JSON file\n",
    "df.to_json(json_file_path, orient='records', lines=True)\n",
    "\n",
    "print(f'DataFrame has been written to {json_file_path}')\n"
   ]
  },
  {
   "cell_type": "code",
   "execution_count": null,
   "id": "538e8fb4-e167-4507-8a67-3c58c89f19ed",
   "metadata": {},
   "outputs": [],
   "source": []
  }
 ],
 "metadata": {
  "kernelspec": {
   "display_name": "Python 3 (ipykernel)",
   "language": "python",
   "name": "python3"
  },
  "language_info": {
   "codemirror_mode": {
    "name": "ipython",
    "version": 3
   },
   "file_extension": ".py",
   "mimetype": "text/x-python",
   "name": "python",
   "nbconvert_exporter": "python",
   "pygments_lexer": "ipython3",
   "version": "3.11.2"
  }
 },
 "nbformat": 4,
 "nbformat_minor": 5
}
