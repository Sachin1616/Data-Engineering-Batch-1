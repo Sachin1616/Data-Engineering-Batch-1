{
 "cells": [
  {
   "cell_type": "code",
   "execution_count": 3,
   "id": "1abdf154-3114-454d-9efd-ce18d49f9f89",
   "metadata": {},
   "outputs": [
    {
     "name": "stdin",
     "output_type": "stream",
     "text": [
      " 1 2 3 4 5 2 1 3 4 \n"
     ]
    },
    {
     "name": "stdout",
     "output_type": "stream",
     "text": [
      "[1, 2, 3, 4, 5, 2, 1, 3, 4]\n",
      "[1, 2, 3, 4, 5]\n"
     ]
    }
   ],
   "source": [
    "l = [int(x) for x in input().split()]\n",
    "print(l)\n",
    "unique_list = list(set(l))\n",
    "print(unique_list)"
   ]
  },
  {
   "cell_type": "code",
   "execution_count": 5,
   "id": "8094a772-caac-4548-84cb-b261ee48325a",
   "metadata": {},
   "outputs": [
    {
     "name": "stdin",
     "output_type": "stream",
     "text": [
      " 1 2 2 3 5 4 6 6 2\n"
     ]
    },
    {
     "name": "stdout",
     "output_type": "stream",
     "text": [
      "[1, 2, 3, 5, 4, 6]\n"
     ]
    }
   ],
   "source": [
    "# using reduce() method:\n",
    "from functools import reduce\n",
    "l = [int(x) for x in input().split()]\n",
    "y = reduce (lambda re, x: re+[x] if x not in re else re, l,[])\n",
    "print(y)"
   ]
  },
  {
   "cell_type": "code",
   "execution_count": 9,
   "id": "0ccbcf3d-5ed2-4781-857d-460a14f87f19",
   "metadata": {},
   "outputs": [
    {
     "name": "stdin",
     "output_type": "stream",
     "text": [
      " 1 2 1 2 3 2 4 3 5 4 5 6\n"
     ]
    },
    {
     "name": "stdout",
     "output_type": "stream",
     "text": [
      "[1, 2, 1, 2, 3, 2, 4, 3, 5, 4, 5, 6]\n",
      "[1, 2, 3, 4, 5, 6]\n"
     ]
    }
   ],
   "source": [
    "#using operator.countOf() method: \n",
    "import operator as op\n",
    "l = [int(x) for x in input().split()]\n",
    "print(l)\n",
    "unique_list=[]\n",
    "for x in l:\n",
    "    if op.countOf(unique_list,x) == 0:\n",
    "        unique_list.append(x)\n",
    "print(unique_list)"
   ]
  },
  {
   "cell_type": "code",
   "execution_count": 8,
   "id": "56dc12d9-9259-4ff4-8b46-00deb455c992",
   "metadata": {},
   "outputs": [
    {
     "name": "stderr",
     "output_type": "stream",
     "text": [
      "C:\\Users\\Dell\\AppData\\Local\\Temp\\ipykernel_32448\\2970749872.py:2: DeprecationWarning: \n",
      "Pyarrow will become a required dependency of pandas in the next major release of pandas (pandas 3.0),\n",
      "(to allow more performant data types, such as the Arrow string type, and better interoperability with other libraries)\n",
      "but was not found to be installed on your system.\n",
      "If this would cause problems for you,\n",
      "please provide us feedback at https://github.com/pandas-dev/pandas/issues/54466\n",
      "        \n",
      "  import pandas as pd\n"
     ]
    },
    {
     "name": "stdin",
     "output_type": "stream",
     "text": [
      " 1 2 2 3 4 5 6 4 3 2 1\n"
     ]
    },
    {
     "name": "stdout",
     "output_type": "stream",
     "text": [
      "[1, 2, 2, 3, 4, 5, 6, 4, 3, 2, 1]\n",
      "[1, 2, 3, 4, 5, 6]\n"
     ]
    }
   ],
   "source": [
    "#using pandas module:\n",
    "import pandas as pd\n",
    "l = [int(x) for x in input().split()]\n",
    "print(l)\n",
    "y = pd.Series(l).drop_duplicates().to_list()\n",
    "print(y)"
   ]
  },
  {
   "cell_type": "code",
   "execution_count": 9,
   "id": "d1951e60-42e6-4a7b-93bb-91adf513d730",
   "metadata": {},
   "outputs": [
    {
     "name": "stdin",
     "output_type": "stream",
     "text": [
      " 1 2 1 2 3 2 3 4 3 4 5 4 5 6 5 6 5 6\n"
     ]
    },
    {
     "name": "stdout",
     "output_type": "stream",
     "text": [
      "[1, 2, 1, 2, 3, 2, 3, 4, 3, 4, 5, 4, 5, 6, 5, 6, 5, 6]\n",
      "[1 2 3 4 5 6]\n"
     ]
    }
   ],
   "source": [
    "#using numpy.Unique method:\n",
    "import numpy as np\n",
    "l = [int(x) for x in input().split()]\n",
    "print(l)\n",
    "x = np.array(l)\n",
    "print(np.unique(x))"
   ]
  },
  {
   "cell_type": "code",
   "execution_count": 1,
   "id": "6ccb97c8-a69e-4293-bff4-c09fe2f06a7f",
   "metadata": {},
   "outputs": [
    {
     "name": "stdin",
     "output_type": "stream",
     "text": [
      " 1 2 2 3 1 4 5 6 1 6\n"
     ]
    },
    {
     "name": "stdout",
     "output_type": "stream",
     "text": [
      "[1, 2, 2, 3, 1, 4, 5, 6, 1, 6]\n",
      "1 2 3 4 5 6\n"
     ]
    }
   ],
   "source": [
    "#using collection.Counter() method:\n",
    "from collections import Counter\n",
    "l = [int(x) for x in input().split()]\n",
    "print(l)\n",
    "print(*Counter(l))"
   ]
  },
  {
   "cell_type": "code",
   "execution_count": 3,
   "id": "3c9a39cb-3dd3-4702-a1d8-7c07f4dac76f",
   "metadata": {},
   "outputs": [
    {
     "name": "stdin",
     "output_type": "stream",
     "text": [
      " 1 2 3 4 5 6 1 2 3 4\n"
     ]
    },
    {
     "name": "stdout",
     "output_type": "stream",
     "text": [
      "[1, 2, 3, 4, 5, 6, 1, 2, 3, 4]\n",
      "[1, 2, 3, 4, 5, 6]\n"
     ]
    }
   ],
   "source": [
    "#using dict.Fromkeys():\n",
    "l = [int(x) for x in input().split()]\n",
    "print(l)\n",
    "y = list(dict.fromkeys(l))\n",
    "print(y)"
   ]
  },
  {
   "cell_type": "code",
   "execution_count": 4,
   "id": "07b69e67-121a-4ed9-bd63-9f095de884d6",
   "metadata": {},
   "outputs": [],
   "source": [
    "#Sorted Python list:"
   ]
  },
  {
   "cell_type": "code",
   "execution_count": 5,
   "id": "268b4e93-44f2-4ea4-b97c-5ef764d01c9a",
   "metadata": {},
   "outputs": [
    {
     "name": "stdin",
     "output_type": "stream",
     "text": [
      " 1 2 1 3 2 4 3 5 4 6 5\n"
     ]
    },
    {
     "name": "stdout",
     "output_type": "stream",
     "text": [
      "[1, 2, 1, 3, 2, 4, 3, 5, 4, 6, 5]\n",
      "[1, 1, 2, 2, 3, 3, 4, 4, 5, 5, 6]\n"
     ]
    }
   ],
   "source": [
    "#using sorted():\n",
    "l = [int(x) for x in input().split()]\n",
    "print(l)\n",
    "print(sorted(l))"
   ]
  },
  {
   "cell_type": "code",
   "execution_count": 7,
   "id": "2bbeb449-e494-4a99-97c9-9e0f7554e651",
   "metadata": {},
   "outputs": [
    {
     "name": "stdin",
     "output_type": "stream",
     "text": [
      " 1 2 3 1 2 4 3 5 6 5 6 4 \n"
     ]
    },
    {
     "name": "stdout",
     "output_type": "stream",
     "text": [
      "[1, 2, 3, 1, 2, 4, 3, 5, 6, 5, 6, 4]\n",
      "[6, 6, 5, 5, 4, 4, 3, 3, 2, 2, 1, 1]\n"
     ]
    }
   ],
   "source": [
    "# using sorted() with reverse argument:\n",
    "l = [int(x) for x in input().split()]\n",
    "print(l)\n",
    "print(sorted(l, reverse=True))"
   ]
  },
  {
   "cell_type": "code",
   "execution_count": 8,
   "id": "f4b4ed26-906d-4154-826e-9bee3e24bfe0",
   "metadata": {},
   "outputs": [
    {
     "name": "stdout",
     "output_type": "stream",
     "text": [
      "['Chaithu', 'Sachin', 'Jeevan', 'Akash']\n",
      "['Akash', 'Sachin', 'Jeevan', 'Chaithu']\n"
     ]
    }
   ],
   "source": [
    "#using sorted() with key argument:\n",
    "x = ['Chaithu', 'Sachin', 'Jeevan', 'Akash']\n",
    "print(x)\n",
    "print(sorted(x, key=len))"
   ]
  },
  {
   "cell_type": "code",
   "execution_count": null,
   "id": "311987b9-8d23-4082-9cc4-2c9fc31b36a7",
   "metadata": {},
   "outputs": [],
   "source": []
  }
 ],
 "metadata": {
  "kernelspec": {
   "display_name": "Python 3 (ipykernel)",
   "language": "python",
   "name": "python3"
  },
  "language_info": {
   "codemirror_mode": {
    "name": "ipython",
    "version": 3
   },
   "file_extension": ".py",
   "mimetype": "text/x-python",
   "name": "python",
   "nbconvert_exporter": "python",
   "pygments_lexer": "ipython3",
   "version": "3.11.2"
  }
 },
 "nbformat": 4,
 "nbformat_minor": 5
}
