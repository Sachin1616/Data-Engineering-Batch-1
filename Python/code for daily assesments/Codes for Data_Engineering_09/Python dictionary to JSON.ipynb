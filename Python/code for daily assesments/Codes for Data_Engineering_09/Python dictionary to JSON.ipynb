{
 "cells": [
  {
   "cell_type": "code",
   "execution_count": null,
   "id": "cecac30e-0279-4c3a-981c-01b3ceb22ffc",
   "metadata": {},
   "outputs": [],
   "source": [
    "#We can convert a Python dictionary to a JSON object using json. Dumps () method of JSON module in Python."
   ]
  },
  {
   "cell_type": "code",
   "execution_count": null,
   "id": "b451be3b-672e-439e-b960-29b89b2fabba",
   "metadata": {},
   "outputs": [],
   "source": [
    "# Python Dictionary to JSON object:"
   ]
  },
  {
   "cell_type": "code",
   "execution_count": 4,
   "id": "743086cf-9917-4727-a147-43720e5bec3a",
   "metadata": {},
   "outputs": [
    {
     "name": "stdout",
     "output_type": "stream",
     "text": [
      "{\n",
      "    \"id\": \"101\",\n",
      "    \"name\": \"Ani\",\n",
      "    \"department\": \"QA\",\n",
      "    \"salary\": \"45000\"\n",
      "}\n"
     ]
    }
   ],
   "source": [
    "import json\n",
    "employee = {\n",
    "    \"id\": \"101\",\n",
    "    \"name\": \"Ani\",\n",
    "    \"department\": \"QA\",\n",
    "    \"salary\": \"45000\"\n",
    "}\n",
    "\n",
    "object = json.dumps(employee, indent=4)\n",
    "print(object)"
   ]
  },
  {
   "cell_type": "code",
   "execution_count": null,
   "id": "dc19f19e-879f-4ae0-b147-0349d9f7e598",
   "metadata": {},
   "outputs": [],
   "source": [
    "# JSON to a file in Python:"
   ]
  },
  {
   "cell_type": "code",
   "execution_count": 6,
   "id": "ffd71485-8077-4bf5-a202-7108cb68da03",
   "metadata": {},
   "outputs": [],
   "source": [
    "import json\n",
    "employee = {\n",
    "    \"id\": \"101\",\n",
    "    \"name\": \"Ani\",\n",
    "    \"department\": \"QA\",\n",
    "    \"salary\": \"45000\"\n",
    "}\n",
    "with open('employee_information.json', 'w') as file: \n",
    "    json.dump(employee, file)\n"
   ]
  },
  {
   "cell_type": "code",
   "execution_count": null,
   "id": "0e318af3-1cf2-4b36-a3ce-c0753f7c2ed0",
   "metadata": {},
   "outputs": [],
   "source": []
  },
  {
   "cell_type": "code",
   "execution_count": null,
   "id": "9aceb9c7-dc50-4419-838f-947aa868a458",
   "metadata": {},
   "outputs": [],
   "source": []
  }
 ],
 "metadata": {
  "kernelspec": {
   "display_name": "Python 3 (ipykernel)",
   "language": "python",
   "name": "python3"
  },
  "language_info": {
   "codemirror_mode": {
    "name": "ipython",
    "version": 3
   },
   "file_extension": ".py",
   "mimetype": "text/x-python",
   "name": "python",
   "nbconvert_exporter": "python",
   "pygments_lexer": "ipython3",
   "version": "3.11.2"
  }
 },
 "nbformat": 4,
 "nbformat_minor": 5
}
