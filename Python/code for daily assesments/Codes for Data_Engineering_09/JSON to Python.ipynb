{
 "cells": [
  {
   "cell_type": "code",
   "execution_count": null,
   "id": "d18bf213-8570-4804-bcd9-88fef3e25f51",
   "metadata": {},
   "outputs": [],
   "source": [
    "# JSON stands for JavaScript Object Notation. \n",
    "# It is a format for structuring data.\n",
    "# This format is used by different web applications to communicate with each other."
   ]
  },
  {
   "cell_type": "code",
   "execution_count": null,
   "id": "0c0c26cb-0fcf-4f4a-a2cb-01e49ed1d0e4",
   "metadata": {},
   "outputs": [],
   "source": [
    "# Json.loads () is used to convert JSON string to a dictionary."
   ]
  },
  {
   "cell_type": "code",
   "execution_count": null,
   "id": "1dc38d14-f373-4b89-9587-29168e2bc3ed",
   "metadata": {},
   "outputs": [],
   "source": [
    "# JSON string to Python Dictionary"
   ]
  },
  {
   "cell_type": "code",
   "execution_count": 2,
   "id": "8a22d8d8-6afb-4fca-85c6-243a799e1876",
   "metadata": {},
   "outputs": [
    {
     "name": "stdout",
     "output_type": "stream",
     "text": [
      "{'Name': 'Sachin', 'Age': 22, 'id': 124, 'Gender': 'Male'}\n",
      "Sachin\n",
      "22\n"
     ]
    }
   ],
   "source": [
    "import json\n",
    "x = '{\"Name\" : \"Sachin\", \"Age\" : 22, \"id\" : 124, \"Gender\" : \"Male\"}'\n",
    "Candidate = json.loads(x)\n",
    "print(Candidate)\n",
    "print(Candidate['Name'])\n",
    "print(Candidate['Age'])"
   ]
  },
  {
   "cell_type": "code",
   "execution_count": null,
   "id": "eea00c6e-a956-4be3-ab01-6e27d3fb5589",
   "metadata": {},
   "outputs": [],
   "source": [
    "# Converting a json data inside a file into python dictionary"
   ]
  },
  {
   "cell_type": "code",
   "execution_count": 3,
   "id": "b194e4f9-2fbf-4f0e-98e3-621688ba7d17",
   "metadata": {},
   "outputs": [
    {
     "name": "stdout",
     "output_type": "stream",
     "text": [
      "Type: <class 'dict'>\n",
      "{'StudentID': 123456, 'Name': 'Sachin', 'Age': 22, 'Gender': 'Male', 'Major': 'Computer Science', 'Courses': ['Introduction to Programming', 'Database Management', 'Data Structures'], 'GPA': 7.5}\n"
     ]
    }
   ],
   "source": [
    "import json\n",
    "file = open('Student_information.json')\n",
    "data = json.load(file)\n",
    "print('Type:',type(data))\n",
    "print(data)"
   ]
  },
  {
   "cell_type": "code",
   "execution_count": null,
   "id": "c2eb1baa-d6bc-41c2-9c59-b686bcb50a7a",
   "metadata": {},
   "outputs": [],
   "source": []
  }
 ],
 "metadata": {
  "kernelspec": {
   "display_name": "Python 3 (ipykernel)",
   "language": "python",
   "name": "python3"
  },
  "language_info": {
   "codemirror_mode": {
    "name": "ipython",
    "version": 3
   },
   "file_extension": ".py",
   "mimetype": "text/x-python",
   "name": "python",
   "nbconvert_exporter": "python",
   "pygments_lexer": "ipython3",
   "version": "3.11.2"
  }
 },
 "nbformat": 4,
 "nbformat_minor": 5
}
