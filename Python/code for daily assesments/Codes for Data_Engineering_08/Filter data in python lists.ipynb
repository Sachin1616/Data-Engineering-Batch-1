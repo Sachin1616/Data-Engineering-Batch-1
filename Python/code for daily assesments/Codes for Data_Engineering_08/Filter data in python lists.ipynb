{
 "cells": [
  {
   "cell_type": "code",
   "execution_count": 1,
   "id": "2228a884-aad6-48ac-91e7-99e66ca81850",
   "metadata": {},
   "outputs": [
    {
     "name": "stdout",
     "output_type": "stream",
     "text": [
      "Even Numbers: [2, 4, 6, 8, 10]\n",
      "Sum of all numbers: 15\n"
     ]
    }
   ],
   "source": [
    "\n",
    "# a) Use of lambda function in Python with filter and reduce:\n",
    "# Filtering even numbers from a list using lambda and filter\n",
    "#Using filter with lambda:\n",
    "numbers = [1, 2, 3, 4, 5, 6, 7, 8, 9, 10]\n",
    "even_numbers = list(filter(lambda x: x % 2 == 0, numbers))\n",
    "print(\"Even Numbers:\", even_numbers)\n",
    "\n",
    "#Using reduce with lambda:\n",
    "from functools import reduce\n",
    "# Summing all elements in a list using lambda and reduce\n",
    "numbers = [1, 2, 3, 4, 5]\n",
    "sum_all = reduce(lambda x, y: x + y, numbers)\n",
    "print(\"Sum of all numbers:\", sum_all)\n",
    "\n",
    "\n"
   ]
  },
  {
   "cell_type": "code",
   "execution_count": 2,
   "id": "d2149819-537e-4443-9146-5b757d14329c",
   "metadata": {},
   "outputs": [
    {
     "name": "stdout",
     "output_type": "stream",
     "text": [
      "Sorted Students by Age: [('Bob', 20), ('Charlie', 22), ('Alice', 25)]\n",
      "Squared and Even Numbers: [1, 4, 3, 16, 5]\n"
     ]
    }
   ],
   "source": [
    "#b) Practical uses of Python lambda function:\n",
    "#Sorting by a specific key:\n",
    "students = [('Alice', 25), ('Bob', 20), ('Charlie', 22)]\n",
    "sorted_students = sorted(students, key=lambda x: x[1])\n",
    "print(\"Sorted Students by Age:\", sorted_students)\n",
    "# Output: [('Bob', 20), ('Charlie', 22), ('Alice', 25)]\n",
    "\n",
    "\n",
    "#Conditional mapping:\n",
    "numbers = [1, 2, 3, 4, 5]\n",
    "squared_and_even = list(map(lambda x: x**2 if x % 2 == 0 else x, numbers))\n",
    "print(\"Squared and Even Numbers:\", squared_and_even)\n",
    "# Output: [1, 4, 3, 16, 5]\n"
   ]
  },
  {
   "cell_type": "code",
   "execution_count": 3,
   "id": "a772965e-2843-4249-be74-92db78993fb9",
   "metadata": {},
   "outputs": [
    {
     "name": "stdout",
     "output_type": "stream",
     "text": [
      "Doubled Numbers: [2, 4, 6, 8, 10]\n"
     ]
    }
   ],
   "source": [
    "# c) Using lambda function with map, filter, reduce:\n",
    "# Using map with lambda:\n",
    "# Doubling each element in a list using lambda and map\n",
    "numbers = [1, 2, 3, 4, 5]\n",
    "doubled_numbers = list(map(lambda x: x * 2, numbers))\n",
    "print(\"Doubled Numbers:\", doubled_numbers)\n",
    "# Output: [2, 4, 6, 8, 10]\n"
   ]
  },
  {
   "cell_type": "code",
   "execution_count": null,
   "id": "4754922b-688f-47c4-a5fc-4716147aad25",
   "metadata": {},
   "outputs": [],
   "source": []
  }
 ],
 "metadata": {
  "kernelspec": {
   "display_name": "Python 3 (ipykernel)",
   "language": "python",
   "name": "python3"
  },
  "language_info": {
   "codemirror_mode": {
    "name": "ipython",
    "version": 3
   },
   "file_extension": ".py",
   "mimetype": "text/x-python",
   "name": "python",
   "nbconvert_exporter": "python",
   "pygments_lexer": "ipython3",
   "version": "3.11.2"
  }
 },
 "nbformat": 4,
 "nbformat_minor": 5
}
