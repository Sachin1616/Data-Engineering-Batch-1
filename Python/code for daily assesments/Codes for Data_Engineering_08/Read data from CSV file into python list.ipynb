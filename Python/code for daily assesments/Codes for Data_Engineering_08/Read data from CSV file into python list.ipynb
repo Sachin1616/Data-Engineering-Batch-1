{
 "cells": [
  {
   "cell_type": "code",
   "execution_count": 1,
   "id": "c81f196e-a169-44eb-90bd-f0a4c9b988c5",
   "metadata": {},
   "outputs": [
    {
     "name": "stdout",
     "output_type": "stream",
     "text": [
      "[['Name', 'Age', 'Occupation'], ['John', '25', 'Engineer'], ['Jane', '30', 'Doctor'], ['Bob', '22', 'Student']]\n"
     ]
    }
   ],
   "source": [
    "import csv\n",
    "\n",
    "# Specify the path to your CSV file\n",
    "csv_file_path = 'Profile.csv'\n",
    "\n",
    "# Create an empty list to store the data\n",
    "data_list = []\n",
    "\n",
    "# Open the CSV file and read its content\n",
    "with open(csv_file_path, 'r') as file:\n",
    "    # Create a CSV reader object\n",
    "    csv_reader = csv.reader(file)\n",
    "\n",
    "    # Iterate over each row in the CSV file\n",
    "    for row in csv_reader:\n",
    "        # Append the row to the data_list\n",
    "        data_list.append(row)\n",
    "\n",
    "# Display the data_list\n",
    "print(data_list)\n"
   ]
  },
  {
   "cell_type": "code",
   "execution_count": null,
   "id": "d041de08-4bc8-449c-b28c-9be7bc265cea",
   "metadata": {},
   "outputs": [],
   "source": []
  }
 ],
 "metadata": {
  "kernelspec": {
   "display_name": "Python 3 (ipykernel)",
   "language": "python",
   "name": "python3"
  },
  "language_info": {
   "codemirror_mode": {
    "name": "ipython",
    "version": 3
   },
   "file_extension": ".py",
   "mimetype": "text/x-python",
   "name": "python",
   "nbconvert_exporter": "python",
   "pygments_lexer": "ipython3",
   "version": "3.11.2"
  }
 },
 "nbformat": 4,
 "nbformat_minor": 5
}
