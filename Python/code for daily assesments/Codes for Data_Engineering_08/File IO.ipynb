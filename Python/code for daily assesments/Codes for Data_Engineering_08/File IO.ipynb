{
 "cells": [
  {
   "cell_type": "code",
   "execution_count": 1,
   "id": "53db8b15-9595-425a-855b-6ad9810fdab5",
   "metadata": {},
   "outputs": [
    {
     "name": "stdout",
     "output_type": "stream",
     "text": [
      "Original content:\n",
      " Hello, this is some content in the example file.\n",
      "\n",
      "\n",
      "Modified content successfully written to the file.\n",
      "\n",
      "Modified content:\n",
      " HELLO, THIS IS SOME CONTENT IN THE EXAMPLE FILE.\n",
      "\n"
     ]
    }
   ],
   "source": [
    "# File path\n",
    "file_path = 'example.txt'\n",
    "\n",
    "# Reading from a file\n",
    "with open(file_path, 'r') as file:\n",
    "    content = file.read()\n",
    "    print(\"Original content:\\n\", content)\n",
    "\n",
    "# Modifying the content\n",
    "modified_content = content.upper()\n",
    "\n",
    "# Writing back to the file\n",
    "with open(file_path, 'w') as file:\n",
    "    file.write(modified_content)\n",
    "    print(\"\\nModified content successfully written to the file.\")\n",
    "\n",
    "# Reading and printing the modified content\n",
    "with open(file_path, 'r') as file:\n",
    "    modified_content = file.read()\n",
    "    print(\"\\nModified content:\\n\", modified_content)\n"
   ]
  },
  {
   "cell_type": "code",
   "execution_count": null,
   "id": "289414c0-3745-4051-8c11-09e20d3f4cfd",
   "metadata": {},
   "outputs": [],
   "source": []
  }
 ],
 "metadata": {
  "kernelspec": {
   "display_name": "Python 3 (ipykernel)",
   "language": "python",
   "name": "python3"
  },
  "language_info": {
   "codemirror_mode": {
    "name": "ipython",
    "version": 3
   },
   "file_extension": ".py",
   "mimetype": "text/x-python",
   "name": "python",
   "nbconvert_exporter": "python",
   "pygments_lexer": "ipython3",
   "version": "3.11.2"
  }
 },
 "nbformat": 4,
 "nbformat_minor": 5
}
